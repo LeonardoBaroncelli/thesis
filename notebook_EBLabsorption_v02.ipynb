{
 "cells": [
  {
   "cell_type": "code",
   "execution_count": 9,
   "metadata": {},
   "outputs": [
    {
     "name": "stdout",
     "output_type": "stream",
     "text": [
      "Filename: /home/ambra/Desktop/cluster-morgana/run0406_plots/run0406/run0406_ID000126.fits\n",
      "No.    Name      Ver    Type      Cards   Dimensions   Format\n",
      "  0  PRIMARY       1 PrimaryHDU      19   ()      \n",
      "  1  ENERGIES      1 BinTableHDU     13   41R x 1C   [E]   \n",
      "  2  TIMES         1 BinTableHDU     13   71R x 1C   [E]   \n",
      "  3  SPECTRA       1 BinTableHDU     92   71R x 41C   [D, D, D, D, D, D, D, D, D, D, D, D, D, D, D, D, D, D, D, D, D, D, D, D, D, D, D, D, D, D, D, D, D, D, D, D, D, D, D, D, D]   \n",
      "0.097\n",
      "33.057 -51.841\n",
      "E (41,) t (71,) spectra (71,)\n"
     ]
    }
   ],
   "source": [
    "# =====================\n",
    "# !!! LOAD TEMPLATE !!!\n",
    "# =====================\n",
    "\n",
    "# IMPORTS ---!\n",
    "import gammalib\n",
    "import ctools\n",
    "import cscripts\n",
    "from astropy.io import fits\n",
    "import os\n",
    "import numpy as np\n",
    "import matplotlib.pyplot as plt\n",
    "import csv\n",
    "import pandas as pd\n",
    "import seaborn as sns\n",
    "import sys\n",
    "from sys import argv\n",
    "\n",
    "from module_analysis import *\n",
    "from module_xml import *\n",
    "\n",
    "workdir = '/home/ambra/Desktop/cluster-morgana/run0406_plots/run0406/' \n",
    "path = workdir + 'run0406_ID000126/'\n",
    "datapath = path + 'data/'\n",
    "simpath = path + 'sim/'\n",
    "template = workdir + 'run0406_ID000126.fits'\n",
    "template_ebl = workdir + 'run0406_ID000126_ebl.fits'\n",
    "model = workdir + 'run0406_ID000126.xml'\n",
    "\n",
    "hdul =  fits.open(template)\n",
    "hdul.info()\n",
    "\n",
    "rootname ='gilmore_test'\n",
    "pathout = datapath\n",
    "\n",
    "# 41 energybins [GeV] ---!\n",
    "energy=np.array(hdul[1].data)\n",
    "# 71 timebins [s] ---!\n",
    "time=np.array(hdul[2].data)\n",
    "# spectra no EBL ---!\n",
    "spectra=np.array(hdul[3].data)\n",
    "\n",
    "z=hdul[0].header['REDSHIFT']\n",
    "print(z)\n",
    "\n",
    "Nt=len(time)\n",
    "Ne=len(energy)\n",
    "\n",
    "primary = hdul[0].header\n",
    "trueRA = primary['RA']\n",
    "trueDEC = primary['DEC']\n",
    "\n",
    "print(trueRA, trueDEC)\n",
    "\n",
    "# TIME GRID ---!\n",
    "t=[0.0 for x in range(Nt+1)]\n",
    "for i in range(Nt-1):\n",
    "    t[i+1]=time[i][0]+(time[i+1][0]-time[i][0])/2\n",
    "# tmax bin ---!\n",
    "t[Nt]=time[Nt-1][0]+(time[Nt-1][0]-t[Nt-1])\n",
    "\n",
    "# ENERGY GRID ---!\n",
    "en=[1.0 for x in range(Ne+1)]\n",
    "for i in range(Ne-1):\n",
    "    en[i+1]=energy[i][0]+(energy[i+1][0]-energy[i][0])/2\n",
    "# emax bin ---!\n",
    "en[Ne]=energy[Ne-1][0]+(energy[Ne-1][0]-en[Ne-1])\n",
    "\n",
    "print('E', energy.shape, 't', time.shape, 'spectra', spectra.shape)"
   ]
  },
  {
   "cell_type": "code",
   "execution_count": 2,
   "metadata": {},
   "outputs": [
    {
     "name": "stdout",
     "output_type": "stream",
     "text": [
      "Energy (GeV)\n"
     ]
    }
   ],
   "source": [
    "# ========================\n",
    "# !!! LOAD GILMORE EBL !!!\n",
    "# ========================\n",
    "\n",
    "pathebl = '/home/ambra/Desktop/cluster-morgana/'\n",
    "fiducial = pathebl + 'gilmore_tau_fiducial.csv'\n",
    "\n",
    "df = pd.read_csv(fiducial)\n",
    "cols = list(df.columns)\n",
    "df.dropna()\n",
    "\n",
    "z01 = np.array(df['0.10'])\n",
    "E = np.array(df[cols[0]]) # MeV\n",
    "E = E/1e3\n",
    "\n",
    "print('Energy (GeV)')"
   ]
  },
  {
   "cell_type": "code",
   "execution_count": 3,
   "metadata": {},
   "outputs": [
    {
     "name": "stderr",
     "output_type": "stream",
     "text": [
      "/home/ambra/anaconda3/lib/python3.6/site-packages/scipy/interpolate/interpolate.py:689: RuntimeWarning: invalid value encountered in greater\n",
      "  above_bounds = x_new > self.x[-1]\n"
     ]
    },
    {
     "data": {
      "image/png": "[encoded data removed]",
      "text/plain": [
       "<Figure size 432x288 with 1 Axes>"
      ]
     },
     "metadata": {
      "needs_background": "light"
     },
     "output_type": "display_data"
    }
   ],
   "source": [
    "# =====================\n",
    "# !!! INTERPOLATION !!!\n",
    "# =====================\n",
    "\n",
    "from scipy.interpolate import interp1d\n",
    "\n",
    "y = np.zeros(shape=len(energy))+1\n",
    "ylin = interp1d(E, z01)\n",
    "#ycub = interp1d(E, z01, kind='cubic')\n",
    "x = np.linspace(0, len(E), endpoint=True)\n",
    "\n",
    "fig = plt.figure()\n",
    "plt.rc('text', usetex=True)\n",
    "sns.set()\n",
    "\n",
    "ax = plt.subplot(111, xscale='log', yscale='log')\n",
    "ax.plot(E, z01, '.', label='tau', c='g')\n",
    "ax.plot(energy, ylin(energy), 'o', c='k', markeredgecolor='k', markerfacecolor='none', label='interp lin')\n",
    "#ax.plot(energy, ycub(energy), '*', c='r', markeredgecolor='k', markerfacecolor='none', label='interp cub')\n",
    "ax.set_ylabel('Opacity ($\\\\tau$)')\n",
    "ax.set_xlabel('Energy (GeV)')\n",
    "ax.set_title('Gilmore EBL')\n",
    "ax.legend(loc='best')\n",
    "\n",
    "fig.savefig('gilmore_tau_interpolation.png')\n",
    "plt.show()"
   ]
  },
  {
   "cell_type": "code",
   "execution_count": 6,
   "metadata": {},
   "outputs": [
    {
     "name": "stdout",
     "output_type": "stream",
     "text": [
      "Gilmore tau\n",
      "(71,) (71,) (41,)\n",
      "ebl spectra\n",
      "(71,)\n"
     ]
    }
   ],
   "source": [
    "# ===========================\n",
    "# !!! EBL GILMORE SPECTRA !!!\n",
    "# ===========================\n",
    "\n",
    "tau_gilmore = np.array(ylin(energy))\n",
    "print('Gilmore tau')\n",
    "print(ebl_gilmore.shape, spectra.shape, tau_gilmore.shape)\n",
    "\n",
    "ebl_gilmore = np.empty_like(spectra)\n",
    "\n",
    "for i in range(len(time)) :\n",
    "    for j in range(len(energy)) :\n",
    "        ebl_gilmore[j] = spectra[i][j] * np.exp(-tau_gilmore[j])\n",
    "\n",
    "print('ebl spectra')\n",
    "print(ebl_gilmore.shape)"
   ]
  },
  {
   "cell_type": "code",
   "execution_count": 7,
   "metadata": {},
   "outputs": [
    {
     "name": "stdout",
     "output_type": "stream",
     "text": [
      "XTENSION= 'BINTABLE'           / binary table extension                         BITPIX  =                    8 / array data type                                NAXIS   =                    2 / number of array dimensions                     NAXIS1  =                  328 / length of dimension 1                          NAXIS2  =                   71 / length of dimension 2                          PCOUNT  =                    0 / number of group parameters                     GCOUNT  =                    1 / number of groups                               TFIELDS =                   41 / number of table fields                         EXTNAME = 'EBL GILMORE'        / extension name                                 UNITS   = 'ph/cm2/s/GeV'       /                                                TTYPE1  = 'col0    '                                                            TFORM1  = 'D       '                                                            TTYPE2  = 'col1    '                                                            TFORM2  = 'D       '                                                            TTYPE3  = 'col2    '                                                            TFORM3  = 'D       '                                                            TTYPE4  = 'col3    '                                                            TFORM4  = 'D       '                                                            TTYPE5  = 'col4    '                                                            TFORM5  = 'D       '                                                            TTYPE6  = 'col5    '                                                            TFORM6  = 'D       '                                                            TTYPE7  = 'col6    '                                                            TFORM7  = 'D       '                                                            TTYPE8  = 'col7    '                                                            TFORM8  = 'D       '                                                            TTYPE9  = 'col8    '                                                            TFORM9  = 'D       '                                                            TTYPE10 = 'col9    '                                                            TFORM10 = 'D       '                                                            TTYPE11 = 'col10   '                                                            TFORM11 = 'D       '                                                            TTYPE12 = 'col11   '                                                            TFORM12 = 'D       '                                                            TTYPE13 = 'col12   '                                                            TFORM13 = 'D       '                                                            TTYPE14 = 'col13   '                                                            TFORM14 = 'D       '                                                            TTYPE15 = 'col14   '                                                            TFORM15 = 'D       '                                                            TTYPE16 = 'col15   '                                                            TFORM16 = 'D       '                                                            TTYPE17 = 'col16   '                                                            TFORM17 = 'D       '                                                            TTYPE18 = 'col17   '                                                            TFORM18 = 'D       '                                                            TTYPE19 = 'col18   '                                                            TFORM19 = 'D       '                                                            TTYPE20 = 'col19   '                                                            TFORM20 = 'D       '                                                            TTYPE21 = 'col20   '                                                            TFORM21 = 'D       '                                                            TTYPE22 = 'col21   '                                                            TFORM22 = 'D       '                                                            TTYPE23 = 'col22   '                                                            TFORM23 = 'D       '                                                            TTYPE24 = 'col23   '                                                            TFORM24 = 'D       '                                                            TTYPE25 = 'col24   '                                                            TFORM25 = 'D       '                                                            TTYPE26 = 'col25   '                                                            TFORM26 = 'D       '                                                            TTYPE27 = 'col26   '                                                            TFORM27 = 'D       '                                                            TTYPE28 = 'col27   '                                                            TFORM28 = 'D       '                                                            TTYPE29 = 'col28   '                                                            TFORM29 = 'D       '                                                            TTYPE30 = 'col29   '                                                            TFORM30 = 'D       '                                                            TTYPE31 = 'col30   '                                                            TFORM31 = 'D       '                                                            TTYPE32 = 'col31   '                                                            TFORM32 = 'D       '                                                            TTYPE33 = 'col32   '                                                            TFORM33 = 'D       '                                                            TTYPE34 = 'col33   '                                                            TFORM34 = 'D       '                                                            TTYPE35 = 'col34   '                                                            TFORM35 = 'D       '                                                            TTYPE36 = 'col35   '                                                            TFORM36 = 'D       '                                                            TTYPE37 = 'col36   '                                                            TFORM37 = 'D       '                                                            TTYPE38 = 'col37   '                                                            TFORM38 = 'D       '                                                            TTYPE39 = 'col38   '                                                            TFORM39 = 'D       '                                                            TTYPE40 = 'col39   '                                                            TFORM40 = 'D       '                                                            TTYPE41 = 'col40   '                                                            TFORM41 = 'D       '                                                            END                                                                                                                                                                                                                                                                                                                                                                                                                                                                                                                                                                                                                                                                                                                                                                                                                                                                                                                                                                                                                                                                                                                                                                                                                                                                                                                             \n"
     ]
    }
   ],
   "source": [
    "# ===========================\n",
    "# !!! CREATE THE NEW FITS !!!\n",
    "# ===========================\n",
    "\n",
    "hdu = fits.BinTableHDU(name='EBL Gilmore', data=ebl_gilmore)\n",
    "\n",
    "#print(hdu.header)\n",
    "header = hdu.header\n",
    "header.set('UNITS', 'ph/cm2/s/GeV', ' ')\n",
    "\n",
    "hdu = fits.BinTableHDU(name='EBL Gilmore', data=ebl_gilmore, header=header)\n",
    "print(hdu.header)\n",
    "\n",
    "hdul.append(hdu)\n",
    "\n",
    "os.system('rm ' + template_ebl)\n",
    "hdul.writeto(template_ebl, overwrite=False)\n",
    "hdul.close()\n"
   ]
  },
  {
   "cell_type": "code",
   "execution_count": null,
   "metadata": {},
   "outputs": [],
   "source": []
  }
 ],
 "metadata": {
  "kernelspec": {
   "display_name": "Python 3",
   "language": "python",
   "name": "python3"
  },
  "language_info": {
   "codemirror_mode": {
    "name": "ipython",
    "version": 3
   },
   "file_extension": ".py",
   "mimetype": "text/x-python",
   "name": "python",
   "nbconvert_exporter": "python",
   "pygments_lexer": "ipython3",
   "version": "3.6.8"
  }
 },
 "nbformat": 4,
 "nbformat_minor": 2
}
