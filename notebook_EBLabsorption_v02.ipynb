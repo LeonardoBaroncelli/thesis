{
 "cells": [
  {
   "cell_type": "code",
   "execution_count": 16,
   "metadata": {},
   "outputs": [
    {
     "name": "stdout",
     "output_type": "stream",
     "text": [
      "Filename: /home/ambra/Desktop/cluster-morgana/run0406_plots/run0406/run0406_ID000126.fits\n",
      "No.    Name      Ver    Type      Cards   Dimensions   Format\n",
      "  0  PRIMARY       1 PrimaryHDU      19   ()      \n",
      "  1  ENERGIES      1 BinTableHDU     13   41R x 1C   [E]   \n",
      "  2  TIMES         1 BinTableHDU     13   71R x 1C   [E]   \n",
      "  3  SPECTRA       1 BinTableHDU     92   71R x 41C   [D, D, D, D, D, D, D, D, D, D, D, D, D, D, D, D, D, D, D, D, D, D, D, D, D, D, D, D, D, D, D, D, D, D, D, D, D, D, D, D, D]   \n",
      "33.057 -51.841\n",
      "(41,)\n",
      "(71,)\n"
     ]
    }
   ],
   "source": [
    "# =====================\n",
    "# !!! LOAD TEMPLATE !!!\n",
    "# =====================\n",
    "\n",
    "# IMPORTS ---!\n",
    "import gammalib\n",
    "import ctools\n",
    "import cscripts\n",
    "from astropy.io import fits\n",
    "import os\n",
    "import numpy as np\n",
    "import matplotlib.pyplot as plt\n",
    "import csv\n",
    "import pandas as pd\n",
    "import seaborn as sns\n",
    "import sys\n",
    "from sys import argv\n",
    "\n",
    "from module_analysis import *\n",
    "from module_xml import *\n",
    "\n",
    "workdir = '/home/ambra/Desktop/cluster-morgana/run0406_plots/run0406/' \n",
    "path = workdir + 'run0406_ID000126/'\n",
    "datapath = path + 'data/'\n",
    "simpath = path + 'sim/'\n",
    "template = workdir + 'run0406_ID000126.fits'\n",
    "model = workdir + 'run0406_ID000126.xml'\n",
    "\n",
    "hdul =  fits.open(template)\n",
    "hdul.info()\n",
    "\n",
    "rootname ='gilmore_test'\n",
    "pathout = datapath\n",
    "\n",
    "# 41 energybins [GeV] ---!\n",
    "energy=np.array(hdul[1].data)\n",
    "# 71 timebins [s] ---!\n",
    "time=np.array(hdul[2].data)\n",
    "# spectra no EBL ---!\n",
    "spectra=np.array(hdul[3].data)\n",
    "\n",
    "Nt=len(time)\n",
    "Ne=len(energy)\n",
    "\n",
    "primary = hdul[0].header\n",
    "trueRA = primary['RA']\n",
    "trueDEC = primary['DEC']\n",
    "\n",
    "print(trueRA, trueDEC)\n",
    "\n",
    "# TIME GRID ---!\n",
    "t=[0.0 for x in range(Nt+1)]\n",
    "for i in range(Nt-1):\n",
    "    t[i+1]=time[i][0]+(time[i+1][0]-time[i][0])/2\n",
    "# tmax bin ---!\n",
    "t[Nt]=time[Nt-1][0]+(time[Nt-1][0]-t[Nt-1])\n",
    "\n",
    "#print('time bins')\n",
    "#print(time)\n",
    "\n",
    "# ENERGY GRID ---!\n",
    "en=[1.0 for x in range(Ne+1)]\n",
    "for i in range(Ne-1):\n",
    "    en[i+1]=energy[i][0]+(energy[i+1][0]-energy[i][0])/2\n",
    "# emax bin ---!\n",
    "en[Ne]=energy[Ne-1][0]+(energy[Ne-1][0]-en[Ne-1])\n",
    "\n",
    "#print('energy GeV bins')\n",
    "print(energy.shape)\n",
    "\n",
    "#print('spectra bins')\n",
    "print(spectra.shape)"
   ]
  },
  {
   "cell_type": "code",
   "execution_count": 5,
   "metadata": {},
   "outputs": [
    {
     "name": "stdout",
     "output_type": "stream",
     "text": [
      "Energy (GeV)\n"
     ]
    }
   ],
   "source": [
    "# ========================\n",
    "# !!! LOAD GILMORE EBL !!!\n",
    "# ========================\n",
    "\n",
    "pathebl = '/home/ambra/Desktop/cluster-morgana/'\n",
    "fiducial = pathebl + 'gilmore_tau_fiducial.csv'\n",
    "\n",
    "df = pd.read_csv(fiducial)\n",
    "cols = list(df.columns)\n",
    "df.dropna()\n",
    "\n",
    "z01 = np.array(df['0.10'])\n",
    "E = np.array(df[cols[0]]) # MeV\n",
    "E = E/1e3\n",
    "\n",
    "print('Energy (GeV)')\n",
    "#print(E)"
   ]
  },
  {
   "cell_type": "code",
   "execution_count": 14,
   "metadata": {},
   "outputs": [
    {
     "data": {
      "image/png": "[encoded data removed]",
      "text/plain": [
       "<Figure size 432x288 with 1 Axes>"
      ]
     },
     "metadata": {},
     "output_type": "display_data"
    }
   ],
   "source": [
    "# =====================\n",
    "# !!! INTERPOLATION !!!\n",
    "# =====================\n",
    "\n",
    "from scipy.interpolate import interp1d\n",
    "\n",
    "y = np.zeros(shape=len(energy))+1\n",
    "ylin = interp1d(E, z01)\n",
    "#ycub = interp1d(E, z01, kind='cubic')\n",
    "x = np.linspace(0, len(E), endpoint=True)\n",
    "\n",
    "fig = plt.figure()\n",
    "ax = plt.subplot(111, xscale='log', yscale='log')\n",
    "plt.rc('text', usetex=True)\n",
    "sns.set()\n",
    "\n",
    "ax.plot(E, z01, '.', label='tau', c='g')\n",
    "#ax.plot(energy, y, '+', label='model pnts')\n",
    "ax.plot(energy, ylin(energy), 'o', c='k', markeredgecolor='k', markerfacecolor='none', label='interp lin')\n",
    "#ax.plot(energy, ycub(energy), '*', c='r', markeredgecolor='k', markerfacecolor='none', label='interp cub')\n",
    "ax.set_ylabel('Opacity ($\\\\tau$)')\n",
    "ax.set_xlabel('Energy (GeV)')\n",
    "ax.set_title('Gilmore EBL')\n",
    "ax.legend(loc='best')\n",
    "\n",
    "fig.savefig('gilmore_tau_interpolation.png')\n",
    "plt.show()"
   ]
  },
  {
   "cell_type": "code",
   "execution_count": 15,
   "metadata": {},
   "outputs": [
    {
     "name": "stdout",
     "output_type": "stream",
     "text": [
      "Gilmore tau\n",
      "[0.00000000e+00 0.00000000e+00 0.00000000e+00 0.00000000e+00\n",
      " 0.00000000e+00 0.00000000e+00 0.00000000e+00 0.00000000e+00\n",
      " 0.00000000e+00 5.62372680e-08 2.92854020e-06 1.50544060e-05\n",
      " 4.70802169e-05 1.19446927e-04 3.07728030e-04 8.68692641e-04\n",
      " 2.26201075e-03 5.09533488e-03 1.00815104e-02 1.80759374e-02\n",
      " 3.03609160e-02 4.94074070e-02 7.91155977e-02 1.24608417e-01\n",
      " 1.91609186e-01 2.85076220e-01 4.07536117e-01 5.58201989e-01\n",
      " 7.30427756e-01 9.11690640e-01 1.08786080e+00 1.24552500e+00\n",
      " 1.37591730e+00 1.48374932e+00 1.58389169e+00 1.69458616e+00\n",
      " 1.83785139e+00 2.03455562e+00 2.30843809e+00 2.70720717e+00\n",
      " 3.34145500e+00] 41\n",
      "(71,) (71,) (41,)\n"
     ]
    },
    {
     "ename": "TypeError",
     "evalue": "invalid type promotion",
     "output_type": "error",
     "traceback": [
      "\u001b[0;31m---------------------------------------------------------------------------\u001b[0m",
      "\u001b[0;31mTypeError\u001b[0m                                 Traceback (most recent call last)",
      "\u001b[0;32m<ipython-input-15-ca1fe176a6dc>\u001b[0m in \u001b[0;36m<module>\u001b[0;34m\u001b[0m\n\u001b[1;32m     11\u001b[0m \u001b[0;34m\u001b[0m\u001b[0m\n\u001b[1;32m     12\u001b[0m \u001b[0;32mfor\u001b[0m \u001b[0mi\u001b[0m \u001b[0;32min\u001b[0m \u001b[0mrange\u001b[0m\u001b[0;34m(\u001b[0m\u001b[0mlen\u001b[0m\u001b[0;34m(\u001b[0m\u001b[0mspectra\u001b[0m\u001b[0;34m)\u001b[0m\u001b[0;34m)\u001b[0m \u001b[0;34m:\u001b[0m\u001b[0;34m\u001b[0m\u001b[0;34m\u001b[0m\u001b[0m\n\u001b[0;32m---> 13\u001b[0;31m     \u001b[0mebl_gilmore\u001b[0m\u001b[0;34m[\u001b[0m\u001b[0mi\u001b[0m\u001b[0;34m]\u001b[0m \u001b[0;34m=\u001b[0m \u001b[0mspectra\u001b[0m\u001b[0;34m[\u001b[0m\u001b[0mi\u001b[0m\u001b[0;34m]\u001b[0m \u001b[0;34m*\u001b[0m \u001b[0mnp\u001b[0m\u001b[0;34m.\u001b[0m\u001b[0mexp\u001b[0m\u001b[0;34m(\u001b[0m\u001b[0;34m-\u001b[0m\u001b[0mtau_gilmore\u001b[0m\u001b[0;34m)\u001b[0m\u001b[0;34m\u001b[0m\u001b[0;34m\u001b[0m\u001b[0m\n\u001b[0m\u001b[1;32m     14\u001b[0m \u001b[0;34m\u001b[0m\u001b[0m\n\u001b[1;32m     15\u001b[0m \u001b[0mprint\u001b[0m\u001b[0;34m(\u001b[0m\u001b[0;34m'ebl spectra'\u001b[0m\u001b[0;34m)\u001b[0m\u001b[0;34m\u001b[0m\u001b[0;34m\u001b[0m\u001b[0m\n",
      "\u001b[0;31mTypeError\u001b[0m: invalid type promotion"
     ]
    }
   ],
   "source": [
    "# ===========================\n",
    "# !!! EBL GILMORE SPECTRA !!!\n",
    "# ===========================\n",
    "\n",
    "tau_gilmore = np.array(ylin(energy))\n",
    "print('Gilmore tau')\n",
    "print(tau_gilmore, len(tau_gilmore))\n",
    "ebl_gilmore = np.empty(len(spectra))\n",
    "\n",
    "print(ebl_gilmore.shape, spectra.shape, tau_gilmore.shape)\n",
    "\n",
    "for i in range(len(spectra)) :\n",
    "    ebl_gilmore[i] = spectra[i] * np.exp(-tau_gilmore)\n",
    "\n",
    "print('ebl spectra')\n",
    "print(ebl_gilmore)"
   ]
  },
  {
   "cell_type": "code",
   "execution_count": null,
   "metadata": {},
   "outputs": [],
   "source": []
  }
 ],
 "metadata": {
  "kernelspec": {
   "display_name": "Python 3",
   "language": "python",
   "name": "python3"
  },
  "language_info": {
   "codemirror_mode": {
    "name": "ipython",
    "version": 3
   },
   "file_extension": ".py",
   "mimetype": "text/x-python",
   "name": "python",
   "nbconvert_exporter": "python",
   "pygments_lexer": "ipython3",
   "version": "3.6.8"
  }
 },
 "nbformat": 4,
 "nbformat_minor": 2
}
