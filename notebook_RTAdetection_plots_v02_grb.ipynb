{
 "cells": [
  {
   "cell_type": "code",
   "execution_count": 2,
   "metadata": {},
   "outputs": [
    {
     "name": "stdout",
     "output_type": "stream",
     "text": [
      "['run0406ebl_10000x_1s.csv', 'run0406ebl_10000x_5s.csv', 'run0406ebl_10000x_10s.csv', 'run0406ebl_10000x_100s.csv']\n"
     ]
    }
   ],
   "source": [
    "# ===================================\n",
    "# !!! SET UP PATH AND MERGE FILES !!!\n",
    "# ===================================\n",
    "\n",
    "import csv\n",
    "import numpy as np\n",
    "import pandas as pd\n",
    "from astropy import units as u\n",
    "from astropy.coordinates import SkyCoord\n",
    "\n",
    "Nchunk = 20\n",
    "trials = 10000\n",
    "path = '/home/ambra/Desktop/cluster-morgana/run0406_%dx_ebl_noCut_noDegr_noSort/'  %trials + \\\n",
    "        'run0406/run0406_ID000126/csv/'\n",
    "\n",
    "texp = [1,5,10,100]\n",
    "sigma = [5]\n",
    "chunk = [i+1 for i in range(Nchunk)]\n",
    "\n",
    "csvName = [[]*i for i in range(len(texp))]\n",
    "for i in range(len(chunk)) :  \n",
    "    for j in range(len(texp)) :\n",
    "        csvName[j].append('run0406_%ds_chunk%02d.csv' % (texp[j], chunk[i]))\n",
    "        \n",
    "# merge files ---!\n",
    "csvMerged= []\n",
    "for j in range(len(texp)) :\n",
    "    csvMerged.append('run0406ebl_%dx_%ds.csv' % (trials,texp[j]))\n",
    "\n",
    "    fout = open(path+csvMerged[j],'w+')\n",
    "    # first file ---!\n",
    "    for line in open(path+csvName[j][0]):\n",
    "        fout.write(line)\n",
    "    # remaining files ---!    \n",
    "    for i in range(len(chunk)-1):\n",
    "        f = open(path+csvName[j][i+1])\n",
    "        next(f) # skip the header ---!\n",
    "        for line in f:\n",
    "             fout.write(line)\n",
    "        f.close() \n",
    "    fout.close()\n",
    "    \n",
    "print(csvMerged)\n",
    "\n",
    "# data params ---!\n",
    "threshold = 0.5\n",
    "xlim=0.2\n",
    "texp=[1,5,10,100]\n",
    "# initialize SphDistance calc ---!\n",
    "trueRA = 33.057\n",
    "trueDEC = -51.841\n",
    "true_coord = SkyCoord(ra = trueRA*u.deg, dec = trueDEC*u.deg, frame='fk5')\n",
    "# conf intervals params ---!\n",
    "nstd = [1,2,3,5]\n",
    "conf_probs = [0.6827, 0.9545, 0.9973, 0.99994]\n",
    "# img params ---!\n",
    "fontsize=12\n",
    "CI_colors = ['k', 'r', 'g', 'w']"
   ]
  },
  {
   "cell_type": "code",
   "execution_count": 3,
   "metadata": {
    "scrolled": true
   },
   "outputs": [
    {
     "name": "stdout",
     "output_type": "stream",
     "text": [
      "verify trials =  10001\n",
      "verify trials =  10000\n",
      "\n",
      "\n",
      "================ texp = 1s ==============\n",
      "\n",
      "\n",
      "ZERO DETECTION RATE : 45.58\n",
      "DETECTION RATE : 54.42\n",
      "DET RATIO WITHIN 0.5deg FROM TRUE POSITION: 1.46\n",
      "FIT RATIO WITHIN 0.5deg FROM TRUE POSITION: 0.24\n"
     ]
    },
    {
     "data": {
      "text/plain": [
       "<Figure size 640x480 with 1 Axes>"
      ]
     },
     "metadata": {},
     "output_type": "display_data"
    },
    {
     "data": {
      "text/plain": [
       "<Figure size 640x480 with 1 Axes>"
      ]
     },
     "metadata": {},
     "output_type": "display_data"
    },
    {
     "data": {
      "text/plain": [
       "<Figure size 640x480 with 1 Axes>"
      ]
     },
     "metadata": {},
     "output_type": "display_data"
    },
    {
     "data": {
      "text/plain": [
       "<Figure size 640x480 with 1 Axes>"
      ]
     },
     "metadata": {},
     "output_type": "display_data"
    },
    {
     "data": {
      "text/plain": [
       "<Figure size 640x480 with 1 Axes>"
      ]
     },
     "metadata": {},
     "output_type": "display_data"
    },
    {
     "data": {
      "text/plain": [
       "<Figure size 640x480 with 1 Axes>"
      ]
     },
     "metadata": {},
     "output_type": "display_data"
    },
    {
     "data": {
      "text/plain": [
       "<Figure size 640x480 with 2 Axes>"
      ]
     },
     "metadata": {},
     "output_type": "display_data"
    },
    {
     "data": {
      "text/plain": [
       "<Figure size 640x480 with 2 Axes>"
      ]
     },
     "metadata": {},
     "output_type": "display_data"
    },
    {
     "data": {
      "text/plain": [
       "<Figure size 640x480 with 2 Axes>"
      ]
     },
     "metadata": {},
     "output_type": "display_data"
    },
    {
     "data": {
      "text/plain": [
       "<Figure size 640x480 with 2 Axes>"
      ]
     },
     "metadata": {},
     "output_type": "display_data"
    },
    {
     "name": "stdout",
     "output_type": "stream",
     "text": [
      "\n",
      "\n",
      "================ texp = 5s ==============\n",
      "\n",
      "\n",
      "ZERO DETECTION RATE : 95.17\n",
      "DETECTION RATE : 4.83\n",
      "DET RATIO WITHIN 0.5deg FROM TRUE POSITION: 0.15\n",
      "FIT RATIO WITHIN 0.5deg FROM TRUE POSITION: 0.0\n"
     ]
    },
    {
     "name": "stderr",
     "output_type": "stream",
     "text": [
      "/home/ambra/anaconda3/lib/python3.6/site-packages/ipykernel_launcher.py:117: RuntimeWarning: Mean of empty slice\n",
      "/home/ambra/anaconda3/lib/python3.6/site-packages/ipykernel_launcher.py:118: RuntimeWarning: Mean of empty slice\n",
      "/home/ambra/anaconda3/lib/python3.6/site-packages/ipykernel_launcher.py:119: RuntimeWarning: Mean of empty slice\n",
      "/home/ambra/anaconda3/lib/python3.6/site-packages/numpy/lib/nanfunctions.py:1628: RuntimeWarning: Degrees of freedom <= 0 for slice.\n",
      "  keepdims=keepdims)\n"
     ]
    },
    {
     "data": {
      "text/plain": [
       "<Figure size 640x480 with 1 Axes>"
      ]
     },
     "metadata": {},
     "output_type": "display_data"
    },
    {
     "data": {
      "text/plain": [
       "<Figure size 640x480 with 1 Axes>"
      ]
     },
     "metadata": {},
     "output_type": "display_data"
    },
    {
     "data": {
      "text/plain": [
       "<Figure size 640x480 with 1 Axes>"
      ]
     },
     "metadata": {},
     "output_type": "display_data"
    },
    {
     "name": "stderr",
     "output_type": "stream",
     "text": [
      "/home/ambra/anaconda3/lib/python3.6/site-packages/numpy/lib/histograms.py:893: RuntimeWarning: invalid value encountered in true_divide\n",
      "  return n/db/n.sum(), bin_edges\n"
     ]
    },
    {
     "ename": "ValueError",
     "evalue": "`dataset` input should have multiple elements.",
     "output_type": "error",
     "traceback": [
      "\u001b[0;31m---------------------------------------------------------------------------\u001b[0m",
      "\u001b[0;31mValueError\u001b[0m                                Traceback (most recent call last)",
      "\u001b[0;32m<ipython-input-3-b4c7d979f172>\u001b[0m in \u001b[0;36m<module>\u001b[0;34m\u001b[0m\n\u001b[1;32m    160\u001b[0m                            \u001b[0mtitle\u001b[0m\u001b[0;34m=\u001b[0m\u001b[0;34m'best fit RA distribution (texp=%ds)'\u001b[0m \u001b[0;34m%\u001b[0m\u001b[0mtexp\u001b[0m\u001b[0;34m[\u001b[0m\u001b[0mn\u001b[0m\u001b[0;34m]\u001b[0m\u001b[0;34m,\u001b[0m\u001b[0;34m\u001b[0m\u001b[0;34m\u001b[0m\u001b[0m\n\u001b[1;32m    161\u001b[0m                            \u001b[0mxlabel\u001b[0m\u001b[0;34m=\u001b[0m\u001b[0;34m'RA (deg)'\u001b[0m\u001b[0;34m,\u001b[0m \u001b[0mylabel\u001b[0m\u001b[0;34m=\u001b[0m\u001b[0;34m'counts density'\u001b[0m\u001b[0;34m,\u001b[0m\u001b[0;34m\u001b[0m\u001b[0;34m\u001b[0m\u001b[0m\n\u001b[0;32m--> 162\u001b[0;31m                            filename='run0406_%ds_fitRA.png' %texp[n]) \n\u001b[0m\u001b[1;32m    163\u001b[0m     \u001b[0mplt\u001b[0m\u001b[0;34m.\u001b[0m\u001b[0mshow\u001b[0m\u001b[0;34m(\u001b[0m\u001b[0;34m)\u001b[0m\u001b[0;34m\u001b[0m\u001b[0;34m\u001b[0m\u001b[0m\n\u001b[1;32m    164\u001b[0m     \u001b[0mplt\u001b[0m\u001b[0;34m.\u001b[0m\u001b[0mclose\u001b[0m\u001b[0;34m(\u001b[0m\u001b[0;34m)\u001b[0m\u001b[0;34m\u001b[0m\u001b[0;34m\u001b[0m\u001b[0m\n",
      "\u001b[0;32m~/Desktop/cluster-morgana/module_statistics.py\u001b[0m in \u001b[0;36mhist1d_gauss\u001b[0;34m(x, mean, loc, threshold, nbin, width, fontsize, color, alpha, title, ax_thresh, xlabel, ylabel, filename)\u001b[0m\n\u001b[1;32m     34\u001b[0m     sns.distplot(x, bins=nbin, kde=False,\n\u001b[1;32m     35\u001b[0m                  \u001b[0mfit\u001b[0m\u001b[0;34m=\u001b[0m\u001b[0mnorm\u001b[0m\u001b[0;34m,\u001b[0m \u001b[0mnorm_hist\u001b[0m\u001b[0;34m=\u001b[0m\u001b[0;32mTrue\u001b[0m\u001b[0;34m,\u001b[0m\u001b[0;34m\u001b[0m\u001b[0;34m\u001b[0m\u001b[0m\n\u001b[0;32m---> 36\u001b[0;31m                  color=color, hist_kws={'alpha':alpha, 'range':[loc-threshold, loc+threshold]})\n\u001b[0m\u001b[1;32m     37\u001b[0m     \u001b[0mplt\u001b[0m\u001b[0;34m.\u001b[0m\u001b[0mplot\u001b[0m\u001b[0;34m(\u001b[0m\u001b[0;34m[\u001b[0m\u001b[0;34m]\u001b[0m\u001b[0;34m,\u001b[0m\u001b[0;34m[\u001b[0m\u001b[0;34m]\u001b[0m\u001b[0;34m,\u001b[0m \u001b[0mcolor\u001b[0m\u001b[0;34m=\u001b[0m\u001b[0;34m'none'\u001b[0m\u001b[0;34m,\u001b[0m \u001b[0mlabel\u001b[0m\u001b[0;34m=\u001b[0m\u001b[0;34m'wbin=%.2fdeg'\u001b[0m \u001b[0;34m%\u001b[0m\u001b[0mwidth\u001b[0m\u001b[0;34m)\u001b[0m\u001b[0;34m\u001b[0m\u001b[0;34m\u001b[0m\u001b[0m\n\u001b[1;32m     38\u001b[0m     \u001b[0mplt\u001b[0m\u001b[0;34m.\u001b[0m\u001b[0maxvline\u001b[0m\u001b[0;34m(\u001b[0m\u001b[0mloc\u001b[0m\u001b[0;34m,\u001b[0m \u001b[0mc\u001b[0m\u001b[0;34m=\u001b[0m\u001b[0;34m'r'\u001b[0m\u001b[0;34m,\u001b[0m \u001b[0mls\u001b[0m\u001b[0;34m=\u001b[0m\u001b[0;34m'-.'\u001b[0m\u001b[0;34m,\u001b[0m \u001b[0mlabel\u001b[0m\u001b[0;34m=\u001b[0m\u001b[0;34m'true $\\\\approx$ %.3fdeg'\u001b[0m \u001b[0;34m%\u001b[0m\u001b[0mloc\u001b[0m\u001b[0;34m)\u001b[0m\u001b[0;34m\u001b[0m\u001b[0;34m\u001b[0m\u001b[0m\n",
      "\u001b[0;32m~/anaconda3/lib/python3.6/site-packages/seaborn/distributions.py\u001b[0m in \u001b[0;36mdistplot\u001b[0;34m(a, bins, hist, kde, rug, fit, hist_kws, kde_kws, rug_kws, fit_kws, color, vertical, norm_hist, axlabel, label, ax)\u001b[0m\n\u001b[1;32m    249\u001b[0m         \u001b[0mcut\u001b[0m \u001b[0;34m=\u001b[0m \u001b[0mfit_kws\u001b[0m\u001b[0;34m.\u001b[0m\u001b[0mpop\u001b[0m\u001b[0;34m(\u001b[0m\u001b[0;34m\"cut\"\u001b[0m\u001b[0;34m,\u001b[0m \u001b[0;36m3\u001b[0m\u001b[0;34m)\u001b[0m\u001b[0;34m\u001b[0m\u001b[0;34m\u001b[0m\u001b[0m\n\u001b[1;32m    250\u001b[0m         \u001b[0mclip\u001b[0m \u001b[0;34m=\u001b[0m \u001b[0mfit_kws\u001b[0m\u001b[0;34m.\u001b[0m\u001b[0mpop\u001b[0m\u001b[0;34m(\u001b[0m\u001b[0;34m\"clip\"\u001b[0m\u001b[0;34m,\u001b[0m \u001b[0;34m(\u001b[0m\u001b[0;34m-\u001b[0m\u001b[0mnp\u001b[0m\u001b[0;34m.\u001b[0m\u001b[0minf\u001b[0m\u001b[0;34m,\u001b[0m \u001b[0mnp\u001b[0m\u001b[0;34m.\u001b[0m\u001b[0minf\u001b[0m\u001b[0;34m)\u001b[0m\u001b[0;34m)\u001b[0m\u001b[0;34m\u001b[0m\u001b[0;34m\u001b[0m\u001b[0m\n\u001b[0;32m--> 251\u001b[0;31m         \u001b[0mbw\u001b[0m \u001b[0;34m=\u001b[0m \u001b[0mstats\u001b[0m\u001b[0;34m.\u001b[0m\u001b[0mgaussian_kde\u001b[0m\u001b[0;34m(\u001b[0m\u001b[0ma\u001b[0m\u001b[0;34m)\u001b[0m\u001b[0;34m.\u001b[0m\u001b[0mscotts_factor\u001b[0m\u001b[0;34m(\u001b[0m\u001b[0;34m)\u001b[0m \u001b[0;34m*\u001b[0m \u001b[0ma\u001b[0m\u001b[0;34m.\u001b[0m\u001b[0mstd\u001b[0m\u001b[0;34m(\u001b[0m\u001b[0mddof\u001b[0m\u001b[0;34m=\u001b[0m\u001b[0;36m1\u001b[0m\u001b[0;34m)\u001b[0m\u001b[0;34m\u001b[0m\u001b[0;34m\u001b[0m\u001b[0m\n\u001b[0m\u001b[1;32m    252\u001b[0m         \u001b[0mx\u001b[0m \u001b[0;34m=\u001b[0m \u001b[0m_kde_support\u001b[0m\u001b[0;34m(\u001b[0m\u001b[0ma\u001b[0m\u001b[0;34m,\u001b[0m \u001b[0mbw\u001b[0m\u001b[0;34m,\u001b[0m \u001b[0mgridsize\u001b[0m\u001b[0;34m,\u001b[0m \u001b[0mcut\u001b[0m\u001b[0;34m,\u001b[0m \u001b[0mclip\u001b[0m\u001b[0;34m)\u001b[0m\u001b[0;34m\u001b[0m\u001b[0;34m\u001b[0m\u001b[0m\n\u001b[1;32m    253\u001b[0m         \u001b[0mparams\u001b[0m \u001b[0;34m=\u001b[0m \u001b[0mfit\u001b[0m\u001b[0;34m.\u001b[0m\u001b[0mfit\u001b[0m\u001b[0;34m(\u001b[0m\u001b[0ma\u001b[0m\u001b[0;34m)\u001b[0m\u001b[0;34m\u001b[0m\u001b[0;34m\u001b[0m\u001b[0m\n",
      "\u001b[0;32m~/anaconda3/lib/python3.6/site-packages/scipy/stats/kde.py\u001b[0m in \u001b[0;36m__init__\u001b[0;34m(self, dataset, bw_method, weights)\u001b[0m\n\u001b[1;32m    193\u001b[0m         \u001b[0mself\u001b[0m\u001b[0;34m.\u001b[0m\u001b[0mdataset\u001b[0m \u001b[0;34m=\u001b[0m \u001b[0matleast_2d\u001b[0m\u001b[0;34m(\u001b[0m\u001b[0mdataset\u001b[0m\u001b[0;34m)\u001b[0m\u001b[0;34m\u001b[0m\u001b[0;34m\u001b[0m\u001b[0m\n\u001b[1;32m    194\u001b[0m         \u001b[0;32mif\u001b[0m \u001b[0;32mnot\u001b[0m \u001b[0mself\u001b[0m\u001b[0;34m.\u001b[0m\u001b[0mdataset\u001b[0m\u001b[0;34m.\u001b[0m\u001b[0msize\u001b[0m \u001b[0;34m>\u001b[0m \u001b[0;36m1\u001b[0m\u001b[0;34m:\u001b[0m\u001b[0;34m\u001b[0m\u001b[0;34m\u001b[0m\u001b[0m\n\u001b[0;32m--> 195\u001b[0;31m             \u001b[0;32mraise\u001b[0m \u001b[0mValueError\u001b[0m\u001b[0;34m(\u001b[0m\u001b[0;34m\"`dataset` input should have multiple elements.\"\u001b[0m\u001b[0;34m)\u001b[0m\u001b[0;34m\u001b[0m\u001b[0;34m\u001b[0m\u001b[0m\n\u001b[0m\u001b[1;32m    196\u001b[0m \u001b[0;34m\u001b[0m\u001b[0m\n\u001b[1;32m    197\u001b[0m         \u001b[0mself\u001b[0m\u001b[0;34m.\u001b[0m\u001b[0md\u001b[0m\u001b[0;34m,\u001b[0m \u001b[0mself\u001b[0m\u001b[0;34m.\u001b[0m\u001b[0mn\u001b[0m \u001b[0;34m=\u001b[0m \u001b[0mself\u001b[0m\u001b[0;34m.\u001b[0m\u001b[0mdataset\u001b[0m\u001b[0;34m.\u001b[0m\u001b[0mshape\u001b[0m\u001b[0;34m\u001b[0m\u001b[0;34m\u001b[0m\u001b[0m\n",
      "\u001b[0;31mValueError\u001b[0m: `dataset` input should have multiple elements."
     ]
    }
   ],
   "source": [
    "# =============================\n",
    "# !!! ALL STATISTICAL PLOTS !!!\n",
    "# =============================\n",
    "\n",
    "import matplotlib.pyplot as plt\n",
    "import seaborn as sns\n",
    "from astropy import units as u\n",
    "from astropy.coordinates import SkyCoord\n",
    "from scipy import stats\n",
    "from scipy.stats import rayleigh, norm\n",
    "from matplotlib.lines import Line2D\n",
    "from matplotlib.patches import Ellipse, Circle, Rectangle\n",
    "from mpl_toolkits.axes_grid1 import make_axes_locatable\n",
    "from module_statistics import *\n",
    "\n",
    "\n",
    "# hist params ---!\n",
    "#width = 0.02\n",
    "#nbin = int(threshold / width)\n",
    "Dwidth = 0.02\n",
    "Dnbin = int(threshold / Dwidth)\n",
    "Fwidth = 0.01\n",
    "Fnbin = int(threshold / Fwidth)\n",
    "\n",
    "\n",
    "for n in range(len(texp)) :  \n",
    "        \n",
    "    # store values ---!\n",
    "    filename = csvMerged[n]\n",
    "    \n",
    "    # load DataFrame and column names ---!\n",
    "    df = pd.read_csv(path+filename)\n",
    "    cols = list(df.columns)\n",
    "    trials = len(df[cols[0]])\n",
    "    print('verify trials = ', trials)  if n == 0 else None\n",
    "    # drop duplicates ---! \n",
    "    df.sort_values(cols[0], inplace = True) \n",
    "    # dropping ALL duplicte values \n",
    "    df.drop_duplicates(subset=cols[0], keep='last', inplace=True) \n",
    "    trials = len(df[cols[0]])\n",
    "    print('verify trials = ', trials)  if n == 0 else None\n",
    "    # drop NaN ---!\n",
    "    df = df.dropna()\n",
    "        \n",
    "    print('\\n\\n================ texp = %ds ==============\\n\\n' %texp[n])\n",
    "    \n",
    "    # set arrays ---!\n",
    "    trial = np.array(df[cols[0]])\n",
    "    raDet = np.array(df[cols[5]])\n",
    "    decDet = np.array(df[cols[6]])\n",
    "    raFit = np.array(df[cols[7]])\n",
    "    decFit = np.array(df[cols[8]])\n",
    "    \n",
    "    perc = 100 * (len(trial)/trials)\n",
    "    print('ZERO DETECTION RATE :', 100-perc)\n",
    "    print('DETECTION RATE :', perc)\n",
    "    \n",
    "    # DETECTION ---!\n",
    "    distance_det = []\n",
    "    d_det = []\n",
    "    ra_det = []\n",
    "    dec_det = []\n",
    "\n",
    "    for i in range(len(raDet)) :\n",
    "        if -90 <= decDet[i] <= 90 and 0 <= raDet[i] <= 360 :\n",
    "            det_coord = SkyCoord(ra = raDet[i]*u.deg, dec = decDet[i]*u.deg, frame='fk5')\n",
    "            dist = float(true_coord.separation(det_coord).deg)\n",
    "            distance_det.append(dist)                  \n",
    "    \n",
    "            if dist < threshold :\n",
    "                d_det.append(dist)\n",
    "                ra_det.append(raDet[i]) \n",
    "                dec_det.append(decDet[i]) \n",
    "            \n",
    "    perc_det = len(d_det)/trials * 100\n",
    "    perc_det2 = len(d_det)/len(distance_det) * 100\n",
    "    print('DET RATIO WITHIN %.1fdeg FROM TRUE POSITION:' %threshold, perc_det)\n",
    "    \n",
    "    # MEAN DET ---!\n",
    "    mean_raDet = np.nanmean(ra_det)\n",
    "    mean_decDet = np.nanmean(dec_det)\n",
    "    mean_det = np.nanmean(d_det)\n",
    "    std_det = np.nanstd(d_det)\n",
    "    \n",
    "    tmp = 0\n",
    "    for i in range(len(d_det)) :\n",
    "        tmp += d_det[i]**2\n",
    "        \n",
    "    if len(d_det) != 0.0 :\n",
    "        mode_det = np.sqrt(1/(2*len(d_det)) * tmp)   \n",
    "        MLE_det = 0.606/mode_det\n",
    "    else:\n",
    "        mode_det = np.nan\n",
    "        MLE_det = np.nan\n",
    "    \n",
    "    # FIT MAX LIKELIHOOD ---!\n",
    "    distance_fit = []\n",
    "    d_fit = []\n",
    "    ra_fit = []\n",
    "    dec_fit = []\n",
    "\n",
    "    for i in range(len(raFit)) :\n",
    "        if -90 <= decFit[i] <= 90 and 0 <= raFit[i] <= 360 :\n",
    "            fit_coord = SkyCoord(ra = raFit[i]*u.deg, dec = decFit[i]*u.deg, frame='fk5')\n",
    "            dist = float(true_coord.separation(fit_coord).deg)\n",
    "            distance_fit.append(dist)                  \n",
    "    \n",
    "            if dist < threshold :\n",
    "                d_fit.append(dist)\n",
    "                ra_fit.append(raFit[i]) \n",
    "                dec_fit.append(decFit[i]) \n",
    "        \n",
    "    perc_fit = len(d_fit)/trials * 100\n",
    "    print('FIT RATIO WITHIN %.1fdeg FROM TRUE POSITION:' %threshold, perc_fit)  \n",
    "\n",
    "    # MEAN FIT ---!\n",
    "    mean_raFit = np.nanmean(ra_fit)\n",
    "    mean_decFit = np.nanmean(dec_fit)\n",
    "    mean_fit = np.nanmean(d_fit)\n",
    "    std_fit = np.nanstd(d_fit)\n",
    "        \n",
    "    tmp = 0\n",
    "    for i in range(len(d_fit)) :\n",
    "        tmp += d_fit[i]**2\n",
    "        \n",
    "    if len(d_fit) != 0.0 :\n",
    "        mode_fit = np.sqrt(1/(2*len(d_fit)) * tmp) \n",
    "    else :\n",
    "        mode_fit=np.nan\n",
    "    \n",
    "   \n",
    "    # DETECTION 1D ---!\n",
    "    fig, ax = hist1d_gauss(ra_det, mean_raDet, loc=trueRA, threshold=threshold, nbin=Dnbin, width=Dwidth,\n",
    "                           fontsize=fontsize, color='g', \n",
    "                           title='detected RA distribution (texp=%ds)' %texp[n],\n",
    "                           xlabel='RA (deg)', ylabel='counts density',\n",
    "                           filename='run0406_%ds_detRA.png' %texp[n])   \n",
    "    plt.show()\n",
    "    plt.close()\n",
    "    \n",
    "    fig, ax = hist1d_gauss(dec_det, mean_decDet, loc=trueDEC, nbin=Dnbin, width=Dwidth,\n",
    "                           threshold=threshold, fontsize=fontsize, color='g', alpha=0.5,\n",
    "                           title='detected DEC distribution (texp=%ds)' %texp[n],\n",
    "                           xlabel='DEC (deg)', ylabel='counts density',\n",
    "                           filename='run0406_%ds_detDEC.png' %texp[n]) \n",
    "    plt.show()\n",
    "    plt.close()\n",
    "        \n",
    "    fig, ax = hist1d_rayleigh(d_det, mean_det, rayleigh_prms={'loc':0, 'scale':mode_det}, \n",
    "                              nbin=Dnbin, width=Dwidth, fontsize=fontsize, color='g', threshold=threshold,\n",
    "                              title='detected $\\\\Delta \\\\Theta$ distribution (texp=%ds)' %texp[n],\n",
    "                              xlabel='$\\\\Delta \\\\Theta$ (deg)', ylabel='counts density',\n",
    "                              filename='run0406_%ds_DET.png' %texp[n])\n",
    "    plt.show()\n",
    "    plt.close()\n",
    "        \n",
    "    # BEST FIT 1D ---!\n",
    "    fig, ax = hist1d_gauss(ra_fit, mean_raFit, loc=trueRA, threshold=threshold, nbin=Fnbin, width=Fwidth, \n",
    "                           fontsize=fontsize, color='r', \n",
    "                           title='best fit RA distribution (texp=%ds)' %texp[n],\n",
    "                           xlabel='RA (deg)', ylabel='counts density',\n",
    "                           filename='run0406_%ds_fitRA.png' %texp[n]) \n",
    "    plt.show()\n",
    "    plt.close()\n",
    "        \n",
    "    fig, ax = hist1d_gauss(dec_fit, mean_decFit, loc=trueDEC, nbin=Fnbin, width=Fwidth,\n",
    "                           threshold=threshold, fontsize=fontsize, color='r', alpha=0.5,\n",
    "                           title='best fit DEC distribution (texp=%ds)' %texp[n], ax_thresh=xlim, \n",
    "                           xlabel='DEC (deg)', ylabel='counts density', \n",
    "                           filename='run0406_%ds_fitDEC.png' %texp[n]) \n",
    "    plt.show()\n",
    "    plt.close()\n",
    "        \n",
    "    fig, ax = hist1d_rayleigh(d_fit, mean_fit, threshold=threshold, nbin=Fnbin, width=Fwidth,\n",
    "                              fontsize=fontsize, color='r', rayleigh_prms={'loc':0, 'scale':mode_fit},\n",
    "                              title='best fit $\\\\Delta \\\\Theta$ distribution (texp=%ds)' %texp[n], \n",
    "                              xlabel='$\\\\Delta \\\\Theta$ (deg)', ylabel='counts density',\n",
    "                              filename='run0406_%ds_FIT.png' %texp[n])\n",
    "    plt.show()\n",
    "    plt.close()\n",
    "        \n",
    "    # DETECTION 2D ---!\n",
    "    fig, ax = hist2d_gauss_CI(ra_det, dec_det, nbin=Dnbin, width=Dwidth, threshold=threshold, nstd=nstd,\n",
    "                              xcentre=trueRA, ycentre=trueDEC,\n",
    "                              colors=CI_colors, xlabel='RA (deg)', \n",
    "                              ylabel='DEC (deg)', title='detection confidence regions', fontsize=fontsize,\n",
    "                              filename='hist2d_DETgauss.png')\n",
    "    plt.show()\n",
    "    plt.close()\n",
    "        \n",
    "    fig, ax = hist2d_rayleigh_CI(ra_det, dec_det, nbin=Dnbin, width=Dwidth, threshold=threshold, \n",
    "                                 xcentre=trueRA, ycentre=trueDEC, rayleigh_prms={'loc':0,'scale':mode_det},\n",
    "                                 probs=conf_probs, colors=CI_colors, \n",
    "                                 xlabel='RA (deg)', ylabel='DEC (deg)', \n",
    "                                 title='detection confidence regions', fontsize=fontsize, \n",
    "                                 filename='hist2d_DETrayleigh.png')\n",
    "    plt.show()\n",
    "    plt.close()\n",
    "    \n",
    "    # BEST FIT 2D ---!\n",
    "    fig, ax = hist2d_gauss_CI(ra_fit, dec_fit, nbin=Fnbin, width=Fwidth, threshold=threshold, nstd=nstd,\n",
    "                              xcentre=trueRA, ycentre=trueDEC,\n",
    "                              colors=CI_colors, xlabel='RA (deg)', \n",
    "                              ylabel='DEC (deg)', title='best fit confidence regions', fontsize=fontsize, \n",
    "                              filename='hist2d_FITgauss.png')\n",
    "    plt.show()\n",
    "    plt.close()\n",
    "        \n",
    "    fig, ax = hist2d_rayleigh_CI(ra_fit, dec_fit, nbin=Fnbin, width=Fwidth, threshold=threshold,\n",
    "                                 xcentre=trueRA, ycentre=trueDEC, rayleigh_prms={'loc':0,'scale':mode_fit},\n",
    "                                 probs=conf_probs, colors=CI_colors,  \n",
    "                                 xlabel='RA (deg)', ylabel='DEC (deg)', \n",
    "                                 title='best fit confidence regions', fontsize=fontsize, \n",
    "                                 filename='hist2d_FITrayleigh.png')\n",
    "    plt.show()\n",
    "    plt.close()\n",
    "    \n",
    "    \n",
    "    \n",
    "print('\\n\\nok')\n"
   ]
  },
  {
   "cell_type": "code",
   "execution_count": null,
   "metadata": {},
   "outputs": [],
   "source": []
  },
  {
   "cell_type": "code",
   "execution_count": null,
   "metadata": {},
   "outputs": [],
   "source": []
  },
  {
   "cell_type": "code",
   "execution_count": null,
   "metadata": {},
   "outputs": [],
   "source": []
  },
  {
   "cell_type": "code",
   "execution_count": null,
   "metadata": {},
   "outputs": [],
   "source": []
  },
  {
   "cell_type": "code",
   "execution_count": null,
   "metadata": {},
   "outputs": [],
   "source": []
  },
  {
   "cell_type": "code",
   "execution_count": null,
   "metadata": {},
   "outputs": [],
   "source": []
  },
  {
   "cell_type": "code",
   "execution_count": null,
   "metadata": {},
   "outputs": [],
   "source": []
  },
  {
   "cell_type": "code",
   "execution_count": null,
   "metadata": {},
   "outputs": [],
   "source": []
  }
 ],
 "metadata": {
  "kernelspec": {
   "display_name": "Python 3",
   "language": "python",
   "name": "python3"
  },
  "language_info": {
   "codemirror_mode": {
    "name": "ipython",
    "version": 3
   },
   "file_extension": ".py",
   "mimetype": "text/x-python",
   "name": "python",
   "nbconvert_exporter": "python",
   "pygments_lexer": "ipython3",
   "version": "3.6.8"
  }
 },
 "nbformat": 4,
 "nbformat_minor": 2
}
