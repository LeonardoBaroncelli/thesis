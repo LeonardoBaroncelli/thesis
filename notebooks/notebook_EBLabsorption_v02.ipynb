{
 "cells": [
  {
   "cell_type": "code",
   "execution_count": 1,
   "metadata": {},
   "outputs": [
    {
     "ename": "ModuleNotFoundError",
     "evalue": "No module named 'pkg_blindsearch'",
     "output_type": "error",
     "traceback": [
      "\u001b[0;31m---------------------------------------------------------------------------\u001b[0m",
      "\u001b[0;31mModuleNotFoundError\u001b[0m                       Traceback (most recent call last)",
      "\u001b[0;32m<ipython-input-1-7ae880dde0c1>\u001b[0m in \u001b[0;36m<module>\u001b[0;34m\u001b[0m\n\u001b[1;32m     14\u001b[0m \u001b[0;32mfrom\u001b[0m \u001b[0msys\u001b[0m \u001b[0;32mimport\u001b[0m \u001b[0margv\u001b[0m\u001b[0;34m\u001b[0m\u001b[0;34m\u001b[0m\u001b[0m\n\u001b[1;32m     15\u001b[0m \u001b[0;34m\u001b[0m\u001b[0m\n\u001b[0;32m---> 16\u001b[0;31m \u001b[0;32mimport\u001b[0m \u001b[0mpkg_blindsearch\u001b[0m\u001b[0;34m\u001b[0m\u001b[0;34m\u001b[0m\u001b[0m\n\u001b[0m\u001b[1;32m     17\u001b[0m \u001b[0;34m\u001b[0m\u001b[0m\n\u001b[1;32m     18\u001b[0m \u001b[0mworkdir\u001b[0m \u001b[0;34m=\u001b[0m \u001b[0;34m'/home/ambra/Desktop/cluster-morgana/run0406_test/run0406/'\u001b[0m\u001b[0;34m\u001b[0m\u001b[0;34m\u001b[0m\u001b[0m\n",
      "\u001b[0;31mModuleNotFoundError\u001b[0m: No module named 'pkg_blindsearch'"
     ]
    }
   ],
   "source": [
    "# =====================\n",
    "# !!! LOAD TEMPLATE !!!\n",
    "# =====================\n",
    "\n",
    "# IMPORTS ---!\n",
    "from astropy.io import fits\n",
    "import os\n",
    "import numpy as np\n",
    "import matplotlib.pyplot as plt\n",
    "import csv\n",
    "import pandas as pd\n",
    "import seaborn as sns\n",
    "import sys\n",
    "from sys import argv\n",
    "\n",
    "import pkg_blindsearch\n",
    "\n",
    "workdir = '/home/ambra/Desktop/cluster-morgana/run0406_test/run0406/' \n",
    "template = workdir + 'run0406_ID000126.fits'\n",
    "template_ebl = workdir + 'run0406_ID000126_ebl.fits'\n",
    "\n",
    "pathebl = '/home/ambra/Desktop/cluster-morgana/'\n",
    "fiducial = pathebl + 'gilmore_tau_fiducial.csv'\n",
    "\n",
    "x, y, x2, y2 = fits_ebl(template, template_ebl, fiducial, zfetch=False, z='0.10', plot=True)\n",
    "\n",
    "print('done')"
   ]
  },
  {
   "cell_type": "code",
   "execution_count": 3,
   "metadata": {},
   "outputs": [
    {
     "data": {
      "image/png": "[encoded data removed]",
      "text/plain": [
       "<Figure size 432x288 with 1 Axes>"
      ]
     },
     "metadata": {
      "needs_background": "light"
     },
     "output_type": "display_data"
    }
   ],
   "source": [
    "# =====================\n",
    "# !!! INTERPOLATION !!!\n",
    "# =====================\n",
    "\n",
    "savefig = 'gilmore_tau_interpolation.png'\n",
    "\n",
    "interp_ebl([x, x2], [y, y2], savefig, \n",
    "           xlabel='Energy (GeV)', ylabel='Opacity ($\\\\tau$)', title='Gilmore EBL', \n",
    "           label=['fiducial', 'interp lin'])\n"
   ]
  },
  {
   "cell_type": "code",
   "execution_count": null,
   "metadata": {},
   "outputs": [],
   "source": []
  },
  {
   "cell_type": "code",
   "execution_count": null,
   "metadata": {},
   "outputs": [],
   "source": []
  },
  {
   "cell_type": "code",
   "execution_count": null,
   "metadata": {},
   "outputs": [],
   "source": []
  },
  {
   "cell_type": "code",
   "execution_count": null,
   "metadata": {},
   "outputs": [],
   "source": []
  }
 ],
 "metadata": {
  "kernelspec": {
   "display_name": "Python 3",
   "language": "python",
   "name": "python3"
  },
  "language_info": {
   "codemirror_mode": {
    "name": "ipython",
    "version": 3
   },
   "file_extension": ".py",
   "mimetype": "text/x-python",
   "name": "python",
   "nbconvert_exporter": "python",
   "pygments_lexer": "ipython3",
   "version": "3.6.9"
  }
 },
 "nbformat": 4,
 "nbformat_minor": 2
}
