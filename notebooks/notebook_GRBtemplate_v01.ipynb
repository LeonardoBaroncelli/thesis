{
 "cells": [
  {
   "cell_type": "code",
   "execution_count": 1,
   "metadata": {},
   "outputs": [
    {
     "name": "stdout",
     "output_type": "stream",
     "text": [
      "Filename: /home/ambra/Desktop/cluster-morgana/run0406_test/run0406/run0406_ID000126_ebl.fits\n",
      "No.    Name      Ver    Type      Cards   Dimensions   Format\n",
      "  0  PRIMARY       1 PrimaryHDU      19   ()      \n",
      "  1  ENERGIES      1 BinTableHDU     13   41R x 1C   [E]   \n",
      "  2  TIMES         1 BinTableHDU     13   71R x 1C   [E]   \n",
      "  3  SPECTRA       1 BinTableHDU     92   71R x 41C   [D, D, D, D, D, D, D, D, D, D, D, D, D, D, D, D, D, D, D, D, D, D, D, D, D, D, D, D, D, D, D, D, D, D, D, D, D, D, D, D, D]   \n",
      "  4  EBL GILMORE    1 BinTableHDU     92   71R x 41C   [D, D, D, D, D, D, D, D, D, D, D, D, D, D, D, D, D, D, D, D, D, D, D, D, D, D, D, D, D, D, D, D, D, D, D, D, D, D, D, D, D]   \n",
      "energy 41 time 71\n",
      "done\n"
     ]
    }
   ],
   "source": [
    "# ==============\n",
    "# !!! SET UP !!!\n",
    "# ==============\n",
    "\n",
    "from astropy.io import fits\n",
    "import os\n",
    "import numpy as np\n",
    "import string\n",
    "import re\n",
    "\n",
    "pathin = '/home/ambra/Desktop/cluster-morgana/run0406_test/run0406/' \n",
    "path = pathin + 'run0406_ID000126/'\n",
    "png = pathin + 'png/'\n",
    "template = 'run0406_ID000126_ebl.fits'\n",
    "\n",
    "hdul =  fits.open(pathin + template)\n",
    "hdul.info()\n",
    "\n",
    "# energybins [GeV]\n",
    "energy=np.array(hdul[1].data)\n",
    "# timebins [s]\n",
    "time=np.array(hdul[2].data)\n",
    "# spectra [fotoni/GeV/cm^2/s]\n",
    "spectra=np.array(hdul[3].data)\n",
    "# ebl [fotoni/GeV/cm^2/s]\n",
    "ebl=np.array(hdul[4].data)\n",
    "\n",
    "Nt=len(time)\n",
    "Ne=len(energy)\n",
    "print('energy', Ne, 'time', Nt)\n",
    "\n",
    "print('done')"
   ]
  },
  {
   "cell_type": "code",
   "execution_count": 2,
   "metadata": {},
   "outputs": [
    {
     "name": "stdout",
     "output_type": "stream",
     "text": [
      "(1.0, 28.37082004547119)\n"
     ]
    },
    {
     "name": "stderr",
     "output_type": "stream",
     "text": [
      "/home/ambra/anaconda3/lib/python3.6/site-packages/matplotlib/figure.py:445: UserWarning: Matplotlib is currently using module://ipykernel.pylab.backend_inline, which is a non-GUI backend, so cannot show the figure.\n",
      "  % get_backend())\n"
     ]
    },
    {
     "data": {
      "text/plain": [
       "<Figure size 640x480 with 1 Axes>"
      ]
     },
     "metadata": {},
     "output_type": "display_data"
    },
    {
     "data": {
      "text/plain": [
       "<Figure size 640x480 with 1 Axes>"
      ]
     },
     "metadata": {},
     "output_type": "display_data"
    },
    {
     "data": {
      "text/plain": [
       "<Figure size 640x480 with 1 Axes>"
      ]
     },
     "metadata": {},
     "output_type": "display_data"
    },
    {
     "data": {
      "text/plain": [
       "<Figure size 640x480 with 1 Axes>"
      ]
     },
     "metadata": {},
     "output_type": "display_data"
    }
   ],
   "source": [
    "# =====================\n",
    "# !!! PLOT TEMPLATE !!!\n",
    "# =====================\n",
    "\n",
    "import matplotlib.pyplot as plt\n",
    "from astropy.io import fits\n",
    "import os\n",
    "import numpy as np\n",
    "import seaborn as sns\n",
    "\n",
    "\n",
    "sns.set()\n",
    "\n",
    "# TIME GRID ---!\n",
    "t=[0.0 for x in range(Nt+1)]\n",
    "for i in range(Nt-1):\n",
    "    t[i+1]=time[i][0]+(time[i+1][0]-time[i][0])/2\n",
    "# last bin\n",
    "t[Nt]=time[Nt-1][0]+(time[Nt-1][0]-t[Nt-1])\n",
    "\n",
    "\n",
    "# ENERGY GRID ---!\n",
    "en=[1.0 for x in range(Ne+1)]\n",
    "for i in range(Ne-1):\n",
    "    en[i+1]=energy[i][0]+(energy[i+1][0]-energy[i][0])/2\n",
    "# last bin\n",
    "en[Ne]=energy[Ne-1][0]+(energy[Ne-1][0]-en[Ne-1])\n",
    "\n",
    "LST = (min(en, key=lambda x:abs(x-30)), min(en, key=lambda x:abs(x-150)))\n",
    "MST = (min(en, key=lambda x:abs(x-150)), min(en, key=lambda x:abs(x-10000)))\n",
    "SST = (min(en, key=lambda x:abs(x-1000)), min(en, key=lambda x:abs(x-300000)))\n",
    "CTA = (min(en, key=lambda x:abs(x-30)), min(en, key=lambda x:abs(x-150000)))\n",
    "\n",
    "elow = (min(en, key=lambda x:abs(x-1)), min(en, key=lambda x:abs(x-30)))\n",
    "print(elow)\n",
    "\n",
    "# FLUX SPECTRA ---!\n",
    "f=[]\n",
    "for i in range(Nt):\n",
    "    f.append(0.0)\n",
    "    for j in range(Ne):\n",
    "        f[i]=f[i]+spectra[i][j]*(en[j+1]-en[j])\n",
    "        \n",
    "# FLUX EBL ---!\n",
    "f2=[]\n",
    "f3=[]\n",
    "f4=[]\n",
    "f5=[]\n",
    "f6=[]\n",
    "f7=[]\n",
    "for i in range(Nt):\n",
    "    f2.append(0.0)\n",
    "    f3.append(0.0)\n",
    "    f4.append(0.0)\n",
    "    f5.append(0.0)\n",
    "    f6.append(0.0)\n",
    "    f7.append(0.0)\n",
    "    for j in range(Ne):\n",
    "        f2[i]=f2[i]+ebl[i][j]*(en[j+1]-en[j])\n",
    "        if en[j] <= LST[1] and en[j] >= LST[0]:\n",
    "            f3[i]=f3[i]+ebl[i][j]*(en[j+1]-en[j])\n",
    "        if en[j] <= MST[1] and en[j] >= MST[0]:\n",
    "            f4[i]=f4[i]+ebl[i][j]*(en[j+1]-en[j])\n",
    "        if en[j] <= CTA[1] and en[j] >= CTA[0]:\n",
    "            f5[i]=f5[i]+ebl[i][j]*(en[j+1]-en[j])\n",
    "        if en[j] < LST[0]:\n",
    "            f6[i]=f6[i]+ebl[i][j]*(en[j+1]-en[j])\n",
    "        if en[j] <= SST[1] and en[j] >= SST[0]:\n",
    "            f5[i]=f5[i]+ebl[i][j]*(en[j+1]-en[j])\n",
    "            \n",
    "# first 10 bins spectra ---!\n",
    "fig1=plt.figure(1)\n",
    "for i in range(5):\n",
    "    x=[]\n",
    "    y=[]\n",
    "    for j in range(Ne):\n",
    "        x.append(energy[j][0])\n",
    "        y.append(spectra[i][j])\n",
    "    plt.loglog(x,y, label='tbin %d' %i)\n",
    "    plt.title('template')\n",
    "    plt.xlabel('E[GeV]')\n",
    "    plt.ylabel('F(E)[ph/cm2/s/GeV]')\n",
    "    plt.legend()\n",
    "plt.tight_layout()\n",
    "fig1.savefig(png + 'template_spectra.png')\n",
    "fig1.show()\n",
    "\n",
    "\n",
    "# lightcurve ---!\n",
    "fig2=plt.figure(2)\n",
    "ax = plt.subplot(111, yscale='log')\n",
    "plt.plot(time,f, label='EBL unabsorbed')\n",
    "plt.plot(time,f4, c='r', label='EBL adsorbed')\n",
    "plt.plot(time,f7, c='g', label='SST')\n",
    "plt.title('template')\n",
    "plt.xlabel('time[s]')\n",
    "plt.ylabel('F[ph/cm2s]')\n",
    "plt.legend()\n",
    "plt.tight_layout()\n",
    "fig2.savefig(png + 'template_lightcurve.png')\n",
    "plt.show()\n",
    "\n",
    "# first 10 bins ebl ---!\n",
    "fig3=plt.figure(3)\n",
    "for i in range(3):\n",
    "    x=[]\n",
    "    y=[]\n",
    "    z=[]\n",
    "    for j in range(Ne):\n",
    "        x.append(energy[j][0])\n",
    "        y.append(spectra[i*20+5][j])\n",
    "        z.append(ebl[i*20+5][j])\n",
    "    plt.loglog(x,y, '-', label='%0.2fs-%0.2fs' %(time[i*20+5][0], time[i*20+6][0]))\n",
    "    plt.loglog(x,z, '-.', label='\" \" EBL adsorbed') #%(time[i*20+5][0], time[i*20+6][0]))\n",
    "    plt.title('spectra run0406_ID000126')\n",
    "    plt.xlabel('E (GeV)')\n",
    "    plt.ylabel('d$\\Phi$/dE (ph/cm$^2$/s/GeV)')\n",
    "plt.axvline(30, c='k', ls='--')\n",
    "plt.text(40, 1e-8, '30 GeV', color='k')\n",
    "plt.legend(loc=3) #if i == 0 else None\n",
    "#plt.xlim([0.1, 1e4])\n",
    "plt.tight_layout()\n",
    "fig3.savefig(png + 'template_spectra_ebl.png')\n",
    "plt.show()\n",
    "\n",
    "# lightcurve ebl ---!\n",
    "fig4=plt.figure(4)\n",
    "b=71\n",
    "#plt.loglog(time[:b],f2[:b], label='E>1GeV')\n",
    "#plt.loglog(time[:b],f3[:b], label='LST (30GeV-150GeV)')\n",
    "#plt.loglog(time[:b],f4[:b], label='MST (150GeV-10TeV)')\n",
    "plt.loglog(time[:b],f5[:b], label='CTA (30GeV-150TeV)')\n",
    "plt.loglog(time[:b],f6[:b], ':', label='Below (1GeV-30GeV)')\n",
    "plt.title('light curve of run0406_ID000126')\n",
    "plt.xlabel('time (s)')\n",
    "plt.ylabel('$\\Phi$ (ph/cm$^2$/s)')\n",
    "plt.yscale('log')\n",
    "plt.legend()\n",
    "plt.tight_layout()\n",
    "fig4.savefig(png + 'template_lightcurve_ebl.png')\n",
    "plt.show()\n"
   ]
  },
  {
   "cell_type": "code",
   "execution_count": null,
   "metadata": {},
   "outputs": [],
   "source": []
  },
  {
   "cell_type": "code",
   "execution_count": null,
   "metadata": {},
   "outputs": [],
   "source": []
  }
 ],
 "metadata": {
  "kernelspec": {
   "display_name": "Python 3",
   "language": "python",
   "name": "python3"
  },
  "language_info": {
   "codemirror_mode": {
    "name": "ipython",
    "version": 3
   },
   "file_extension": ".py",
   "mimetype": "text/x-python",
   "name": "python",
   "nbconvert_exporter": "python",
   "pygments_lexer": "ipython3",
   "version": "3.6.9"
  }
 },
 "nbformat": 4,
 "nbformat_minor": 2
}
