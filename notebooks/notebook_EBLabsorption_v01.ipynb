{
 "cells": [
  {
   "cell_type": "code",
   "execution_count": 1,
   "metadata": {
    "scrolled": true
   },
   "outputs": [
    {
     "data": {
      "text/plain": [
       "<Figure size 640x480 with 1 Axes>"
      ]
     },
     "metadata": {},
     "output_type": "display_data"
    }
   ],
   "source": [
    "# ======================\n",
    "# !!! PLOT TAU TABLE !!!\n",
    "# ======================\n",
    "\n",
    "from astropy.io import fits\n",
    "import os\n",
    "import numpy as np\n",
    "import matplotlib.pyplot as plt\n",
    "import csv\n",
    "import pandas as pd\n",
    "import seaborn as sns\n",
    "\n",
    "sns.set()\n",
    "\n",
    "path = '/home/ambra/Desktop/cluster-morgana/'\n",
    "fixed = path + 'gilmore_tau_fixed.csv'\n",
    "fiducial = path + 'gilmore_tau_fiducial.csv'\n",
    "\n",
    "file = [fiducial, fixed]\n",
    "ls = ['-', '-.']\n",
    "fontsize=12\n",
    "labels = ['0.01', '0.1', '1', '2', '3', '4', '5', '6', '7', '8', '9']\n",
    "colors = ['b', 'g', 'r', 'y', 'm', 'gray']\n",
    "\n",
    "fig = plt.figure()\n",
    "ax = plt.subplot(111, xscale='log', yscale='log')\n",
    "plt.rc('text', usetex=True)\n",
    "sns.set()\n",
    "\n",
    "for i in range(len(file)) :\n",
    "    df = pd.read_csv(file[i])\n",
    "    cols = list(df.columns)\n",
    "    df.dropna()\n",
    "\n",
    "    z001 = np.array(df['z=0.01'])\n",
    "    z01 = np.array(df['0.10'])\n",
    "    z1 = np.array(df['1.0'])\n",
    "    z2 = np.array(df['2.0'])\n",
    "    z3 = np.array(df['3.0'])\n",
    "    z4 = np.array(df['4.0'])\n",
    "    z5 = np.array(df['5.0'])\n",
    "    z6 = np.array(df['6.0'])\n",
    "    z7 = np.array(df['7.0'])\n",
    "    z8 = np.array(df['8.0'])\n",
    "    z9 = np.array(df['9.0'])\n",
    "    E = np.array(df[cols[0]])\n",
    "\n",
    "    z = [z001, z01, z1, z2, z3, z4]\n",
    "\n",
    "    for j in range(len(z)) :\n",
    "        plt.plot(E/1e3, z[j], label='z='+labels[j], ls=ls[i], c=colors[j]) \n",
    "        plt.xlabel('E (GeV)', fontsize=fontsize)\n",
    "        plt.ylabel('$\\\\tau$', fontsize=18)\n",
    "        plt.title('optical depth', fontsize=fontsize)\n",
    "\n",
    "    plt.legend(loc=0, fontsize=fontsize) if i == 0 else None\n",
    "    \n",
    "\n",
    "plt.tight_layout()\n",
    "plt.savefig('gilmore_tau.png')\n",
    "plt.show()\n"
   ]
  },
  {
   "cell_type": "code",
   "execution_count": 2,
   "metadata": {},
   "outputs": [
    {
     "data": {
      "image/png": "[encoded data removed]",
      "text/plain": [
       "<Figure size 432x288 with 1 Axes>"
      ]
     },
     "metadata": {
      "needs_background": "light"
     },
     "output_type": "display_data"
    }
   ],
   "source": [
    "fig = plt.figure()\n",
    "ax = plt.subplot(111, xscale='log', yscale='log')\n",
    "plt.rc('text', usetex=True)\n",
    "sns.set()\n",
    "\n",
    "model = ['fiducial', 'fixed']\n",
    "\n",
    "for i in range(len(file)) :\n",
    "    df = pd.read_csv(file[i])\n",
    "    cols = list(df.columns)\n",
    "    df.dropna()\n",
    "\n",
    "    z01 = np.array(df['0.10'])\n",
    "    E = np.array(df[cols[0]])\n",
    "\n",
    "    z = [z01]\n",
    "\n",
    "    for j in range(len(z)) :\n",
    "        plt.plot(E/1e3, z[j], label='%s' %model[i], ls=ls[i], c='g') \n",
    "        plt.xlabel('E (GeV)', fontsize=fontsize)\n",
    "        plt.ylabel('$\\\\tau$', fontsize=18)\n",
    "        plt.title('optical depth (z=0.1)', fontsize=fontsize)\n",
    "\n",
    "    plt.legend(loc=0, fontsize=fontsize) \n",
    "    plt.xlim([30, 500])\n",
    "    plt.ylim([1e-4, 1e0])\n",
    "    plt.xticks((30, 100, 250, 500), ('30', '100', '250', '500')) \n",
    "\n",
    "plt.tight_layout()\n",
    "plt.savefig('gilmore_tau_z01.png')\n",
    "plt.show()\n"
   ]
  },
  {
   "cell_type": "code",
   "execution_count": 4,
   "metadata": {},
   "outputs": [
    {
     "name": "stdout",
     "output_type": "stream",
     "text": [
      "2.2999931000103498e-20\n"
     ]
    }
   ],
   "source": [
    "import numpy as np\n",
    "flux = 2.3e-20\n",
    "tau = 3e-6\n",
    "f = flux * np.exp(-tau)\n",
    "print(f)"
   ]
  },
  {
   "cell_type": "code",
   "execution_count": 5,
   "metadata": {},
   "outputs": [
    {
     "name": "stdout",
     "output_type": "stream",
     "text": [
      "0.9999970000045\n"
     ]
    }
   ],
   "source": [
    "print(np.exp(-tau))"
   ]
  },
  {
   "cell_type": "code",
   "execution_count": null,
   "metadata": {},
   "outputs": [],
   "source": []
  }
 ],
 "metadata": {
  "kernelspec": {
   "display_name": "Python 3",
   "language": "python",
   "name": "python3"
  },
  "language_info": {
   "codemirror_mode": {
    "name": "ipython",
    "version": 3
   },
   "file_extension": ".py",
   "mimetype": "text/x-python",
   "name": "python",
   "nbconvert_exporter": "python",
   "pygments_lexer": "ipython3",
   "version": "3.6.9"
  }
 },
 "nbformat": 4,
 "nbformat_minor": 2
}
