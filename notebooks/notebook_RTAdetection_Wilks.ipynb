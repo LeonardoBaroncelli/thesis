{
 "cells": [
  {
   "cell_type": "code",
   "execution_count": 1,
   "metadata": {},
   "outputs": [
    {
     "name": "stdout",
     "output_type": "stream",
     "text": [
      "['bkg_1s.csv', 'bkg_5s.csv', 'bkg_10s.csv', 'bkg_100s.csv']\n"
     ]
    }
   ],
   "source": [
    "# ===================================\n",
    "# !!! SET UP PATH AND MERGE FILES !!!\n",
    "# ===================================\n",
    "\n",
    "import csv\n",
    "import numpy as np\n",
    "import pandas as pd\n",
    "import os\n",
    "\n",
    "folder = 'tesi_bkg_1e6_nominal_1dof_fullE'\n",
    "path = '/home/ambra/Desktop/cluster-morgana/archive_tests/' + \\\n",
    "        folder + '/run0406_bkg/run0406_ID000126/csv/'\n",
    "\n",
    "Nchunk = 20 \n",
    "\n",
    "texp = [1, 5, 10, 100]\n",
    "sigma = [5]\n",
    "chunk = [i+1 for i in range(Nchunk)]\n",
    "\n",
    "#csvName[texp][chunk]\n",
    "csvName = [[]*i for i in range(len(texp))]\n",
    "for i in range(len(chunk)) :  \n",
    "    for j in range(len(texp)) :\n",
    "        csvName[j].append('bkg_%ds_chunk%02d.csv' % (texp[j], chunk[i]))\n",
    "        \n",
    "# merge files ---!\n",
    "csvMerged= []\n",
    "for j in range(len(texp)) :\n",
    "    csvMerged.append('bkg_%ds.csv' % texp[j])\n",
    "\n",
    "    fout = open(path+csvMerged[j],'w+')\n",
    "    # first file ---!\n",
    "    for line in open(path+csvName[j][0]):\n",
    "        fout.write(line)\n",
    "    # remaining files ---!    \n",
    "    for i in range(len(chunk)-1):\n",
    "        f = open(path+csvName[j][i+1])\n",
    "        next(f) # skip the header ---!\n",
    "        for line in f:\n",
    "             fout.write(line)\n",
    "        f.close() \n",
    "    fout.close()\n",
    "    \n",
    "print(csvMerged)\n",
    "\n",
    "\n"
   ]
  },
  {
   "cell_type": "code",
   "execution_count": 2,
   "metadata": {},
   "outputs": [
    {
     "name": "stdout",
     "output_type": "stream",
     "text": [
      "!======== texp =  1 (s) ========!\n",
      "verify trials =  1000012\n",
      "verify trials =  1000000\n",
      "ts bin: 20\n",
      "var=True; chi2= 995813.3548747514 ; chi2r= 55322.96415970841\n",
      "var=False; chi2= 18.39851265624669 ; chi2r= 1.022139592013705\n",
      "!======== texp =  5 (s) ========!\n",
      "verify trials =  1000009\n",
      "verify trials =  1000000\n",
      "ts bin: 20\n",
      "var=True; chi2= 875673.5154096808 ; chi2r= 48648.52863387115\n",
      "var=False; chi2= 18.320422839090924 ; chi2r= 1.0178012688383846\n",
      "!======== texp =  10 (s) ========!\n",
      "verify trials =  1000005\n",
      "verify trials =  1000000\n",
      "ts bin: 22\n",
      "var=True; chi2= 2166909.483109249 ; chi2r= 108345.47415546243\n",
      "var=False; chi2= 20.292431607834274 ; chi2r= 1.0146215803917138\n",
      "!======== texp =  100 (s) ========!\n",
      "verify trials =  1000000\n",
      "verify trials =  1000000\n",
      "ts bin: 21\n",
      "var=True; chi2= 999876.5317245664 ; chi2r= 52625.08061708244\n",
      "var=False; chi2= 19.231656294162203 ; chi2r= 1.0121924365348527\n"
     ]
    }
   ],
   "source": [
    "import matplotlib.pyplot as plt\n",
    "from matplotlib.patches import Rectangle\n",
    "from matplotlib.lines import Line2D\n",
    "from scipy.stats import chi2\n",
    "import sys\n",
    "sys.path.append('/home/ambra/Desktop/cluster-morgana/')\n",
    "from module_statistics import *\n",
    "\n",
    "# DATA ---!\n",
    "png_path = '/home/ambra/Desktop/cluster-morgana/archive_tests/' + folder + '/png/'\n",
    "if not os.path.isdir(png_path):\n",
    "    os.mkdir(png_path)\n",
    "    \n",
    "#n = 0\n",
    "show = False\n",
    "fontsize=18\n",
    "for n in range(len(texp)):\n",
    "    filename = csvMerged[n]\n",
    "    print('!======== texp = ', texp[n], '(s) ========!')\n",
    "    # load DataFrame and column names ---!\n",
    "    df = pd.read_csv(path+filename)\n",
    "    cols = list(df.columns)\n",
    "    trials = len(df[cols[0]])\n",
    "    print('verify trials = ', trials)\n",
    "    # drop duplicates ---! \n",
    "    df.sort_values(cols[0], inplace = True) \n",
    "    # dropping ALL duplicte values \n",
    "    df.drop_duplicates(subset=cols[0], keep='last', inplace=True) \n",
    "    trials = len(df[cols[0]])\n",
    "    print('verify trials = ', trials)\n",
    "    # drop NaN ---!\n",
    "    #df = df.dropna()\n",
    "\n",
    "    # set arrays ---!\n",
    "    trial = np.array(df[cols[0]])\n",
    "    tsv = np.array(df[cols[2]])\n",
    "\n",
    "    tsv.sort()\n",
    "\n",
    "    wbin = 1\n",
    "    nbin = int(tsv.max()/wbin)\n",
    "    print('ts bin:', nbin)\n",
    "\n",
    "    # -------------------------------- STATS ---!\n",
    "\n",
    "    ts = []\n",
    "    for i in range(trials) :\n",
    "        if tsv[i] < 0.0 or tsv[i] == np.nan:\n",
    "            ts.append(0.0)\n",
    "        else :\n",
    "            ts.append(tsv[i])\n",
    "\n",
    "    chi2, chi2r = chi2_reduced(ts, trials, nbin=nbin, width=wbin, var=True)\n",
    "    print('var=True; chi2=', chi2, '; chi2r=', chi2r)\n",
    "    chi2, chi2r = chi2_reduced(ts, trials, nbin=nbin, width=wbin, var=False)\n",
    "    print('var=False; chi2=', chi2, '; chi2r=', chi2r)\n",
    "\n",
    "    # -------------------------------- PLOT ---!\n",
    "\n",
    "    fig, ax = ts_wilks(ts, trials, nbin=nbin, width=wbin, figsize=(8, 12), fontsize=fontsize,\n",
    "                       title='prod3b-v2: South\\_z40\\_0.5h (texp=%ds)' %texp[n],\n",
    "                       filename=png_path + filename.replace('.csv', '_wilks.png'), ylim=(1e-7, 2e0))\n",
    "\n",
    "    fig, ax = p_values(ts, trials, nbin=nbin, width=wbin, figsize=(8, 12), fontsize=fontsize,\n",
    "                       title='prod3b-v2: South\\_z40\\_0.5h (texp=%ds)' %texp[n],\n",
    "                       filename=png_path + filename.replace('.csv', '_pvalues.png'), ylim=(1e-7, 2e0))\n",
    "\n",
    "    fig, ax = ts_wilks_cumulative(ts, trials, nbin=nbin, width=wbin, figsize=(12, 8), fontsize=fontsize,\n",
    "                                  title='prod3b-v2: South\\_z40\\_0.5h (texp=%ds)' %texp[n], \n",
    "                                  filename=png_path + filename.replace('.csv', '_cumulative.png'))\n"
   ]
  },
  {
   "cell_type": "markdown",
   "metadata": {},
   "source": [
    "100s) chi2= 19.231656294162203 ; chi2r= 1.0121924365348527<br>\n",
    "10s) chi2= 20.292431607834274 ; chi2r= 1.0146215803917138<br>\n",
    "5s) 18.320422839090924 ; chi2r= 1.0178012688383846<br>\n",
    "1s) 18.39851265624669 ; chi2r= 1.022139592013705<br>"
   ]
  },
  {
   "cell_type": "code",
   "execution_count": null,
   "metadata": {},
   "outputs": [],
   "source": []
  },
  {
   "cell_type": "code",
   "execution_count": null,
   "metadata": {},
   "outputs": [],
   "source": []
  },
  {
   "cell_type": "code",
   "execution_count": 11,
   "metadata": {},
   "outputs": [
    {
     "data": {
      "image/png": "[encoded data removed]",
      "text/plain": [
       "<Figure size 288x432 with 1 Axes>"
      ]
     },
     "metadata": {},
     "output_type": "display_data"
    }
   ],
   "source": [
    "fig1 = plt.figure(figsize=(4,6))\n",
    "ax = plt.subplot(111, yscale='log')\n",
    "\n",
    "ts2 = []\n",
    "for i in range(trials) :\n",
    "    if ts[i] >= 1.0 :\n",
    "        ts2.append(ts[i])\n",
    "\n",
    "# TS DIST BLACK ---!\n",
    "h, edges = np.histogram(ts2, bins=int(nbin), density=False, range=(1., max(ts)))\n",
    "h_norm = h / trials\n",
    "err_norm = np.sqrt(h) / trials\n",
    "cbin = (edges[1:] + edges[:-1])/2\n",
    "\n",
    "plt.errorbar(cbin, h_norm, fmt='ko', yerr=err_norm, markersize=3, label='data')\n",
    "plt.plot(ts2, stats.chi2.pdf(ts2, df=1)/2, lw=1, ls='--', label='$\\\\chi^2$/2')\n",
    "\n",
    "# P-VALUE DIST GREEN ---! 1)\n",
    "h, edges = np.histogram(ts, bins=int(nbin), density=False, range=(0., max(ts)))\n",
    "h_norm = h / trials\n",
    "err_norm = np.sqrt(h) / trials\n",
    "cbin = (edges[1:] + edges[:-1])/2\n",
    "h_norm = (1-stats.chi2.cdf(cbin, df=1))/2\n",
    "\n",
    "plt.errorbar(cbin, h_norm, yerr=err_norm, fmt='g+', markersize=5, label='p-values')\n",
    "plt.plot(ts, (1-stats.chi2.cdf(ts, df=1))/2, lw=1, ls='-.', c='maroon', label='P')\n",
    "\n",
    "\n",
    "# P-VALUE DIST YELLOW ---! 2)\n",
    "h, edges = np.histogram(ts, bins=int(nbin), density=True, range=(0., max(ts)))\n",
    "h_norm = h / trials\n",
    "err_norm = np.sqrt(h) / trials\n",
    "cbin = (edges[1:] + edges[:-1])\n",
    "h_norm = (1-stats.chi2.cdf(cbin, df=1))\n",
    "\n",
    "plt.errorbar(cbin, h_norm, yerr=err_norm, fmt='y*', markersize=5, label='p-values')\n",
    "plt.plot(ts, (1-stats.chi2.cdf(ts, df=1)), lw=1, ls='-.', c='m', label='P')\n",
    "\n",
    "\n",
    "plt.legend(loc=0)\n",
    "\n",
    "plt.show()\n"
   ]
  },
  {
   "cell_type": "code",
   "execution_count": 4,
   "metadata": {},
   "outputs": [
    {
     "name": "stdout",
     "output_type": "stream",
     "text": [
      "2000000\n"
     ]
    },
    {
     "data": {
      "image/png": "[encoded data removed]",
      "text/plain": [
       "<Figure size 288x432 with 1 Axes>"
      ]
     },
     "metadata": {},
     "output_type": "display_data"
    }
   ],
   "source": [
    "fig1 = plt.figure(figsize=(4,6))\n",
    "ax = plt.subplot(111, yscale='log')\n",
    "\n",
    "pvalues = (1-stats.chi2.cdf(ts, df=1))\n",
    "print(len(pvalues))\n",
    "\n",
    "h, edges = np.histogram(ts, bins=int(nbin), density=False, range=(0., max(ts)))\n",
    "h_norm = h / trials\n",
    "err_norm = np.sqrt(h) / trials\n",
    "cbin = (edges[1:] + edges[:-1])/2\n",
    "h_norm = (1-stats.chi2.cdf(cbin, df=1))\n",
    "\n",
    "#plt.errorbar(ts, pvalues, fmt='r.', markersize=3)\n",
    "plt.errorbar(cbin, h_norm, yerr=err_norm, fmt='k.', markersize=5)\n",
    "plt.plot(ts, stats.chi2.pdf(ts, df=1)/2, lw=1, ls='--', label='$\\\\chi^2$/2')\n",
    "plt.plot(ts, (1-stats.chi2.cdf(ts, df=1)), lw=1, ls='-.', c='maroon')\n",
    "\n",
    "plt.legend()\n",
    "\n",
    "fig.figure"
   ]
  },
  {
   "cell_type": "code",
   "execution_count": null,
   "metadata": {},
   "outputs": [],
   "source": []
  }
 ],
 "metadata": {
  "kernelspec": {
   "display_name": "Python 3",
   "language": "python",
   "name": "python3"
  },
  "language_info": {
   "codemirror_mode": {
    "name": "ipython",
    "version": 3
   },
   "file_extension": ".py",
   "mimetype": "text/x-python",
   "name": "python",
   "nbconvert_exporter": "python",
   "pygments_lexer": "ipython3",
   "version": "3.6.9"
  }
 },
 "nbformat": 4,
 "nbformat_minor": 2
}
