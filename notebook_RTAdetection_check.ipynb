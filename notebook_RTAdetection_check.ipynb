{
 "cells": [
  {
   "cell_type": "code",
   "execution_count": 2,
   "metadata": {},
   "outputs": [
    {
     "ename": "ModuleNotFoundError",
     "evalue": "No module named 'pyregion'",
     "output_type": "error",
     "traceback": [
      "\u001b[0;31m---------------------------------------------------------------------------\u001b[0m",
      "\u001b[0;31mModuleNotFoundError\u001b[0m                       Traceback (most recent call last)",
      "\u001b[0;32m<ipython-input-2-c9450d8ee4ef>\u001b[0m in \u001b[0;36m<module>\u001b[0;34m\u001b[0m\n\u001b[1;32m      4\u001b[0m \u001b[0;34m\u001b[0m\u001b[0m\n\u001b[1;32m      5\u001b[0m \u001b[0;32mimport\u001b[0m \u001b[0mmatplotlib\u001b[0m\u001b[0;34m.\u001b[0m\u001b[0mpyplot\u001b[0m \u001b[0;32mas\u001b[0m \u001b[0mplt\u001b[0m\u001b[0;34m\u001b[0m\u001b[0;34m\u001b[0m\u001b[0m\n\u001b[0;32m----> 6\u001b[0;31m \u001b[0;32mfrom\u001b[0m \u001b[0mmodule_plot\u001b[0m \u001b[0;32mimport\u001b[0m \u001b[0mshowSkymap\u001b[0m\u001b[0;34m\u001b[0m\u001b[0;34m\u001b[0m\u001b[0m\n\u001b[0m\u001b[1;32m      7\u001b[0m \u001b[0;31m#from module_xml import getRaDec\u001b[0m\u001b[0;34m\u001b[0m\u001b[0;34m\u001b[0m\u001b[0;34m\u001b[0m\u001b[0m\n\u001b[1;32m      8\u001b[0m \u001b[0;34m\u001b[0m\u001b[0m\n",
      "\u001b[0;32m~/Desktop/cluster-morgana/module_plot.py\u001b[0m in \u001b[0;36m<module>\u001b[0;34m\u001b[0m\n\u001b[1;32m     10\u001b[0m \u001b[0;32mfrom\u001b[0m \u001b[0mmatplotlib\u001b[0m\u001b[0;34m.\u001b[0m\u001b[0mcolors\u001b[0m \u001b[0;32mimport\u001b[0m \u001b[0mSymLogNorm\u001b[0m\u001b[0;34m\u001b[0m\u001b[0;34m\u001b[0m\u001b[0m\n\u001b[1;32m     11\u001b[0m \u001b[0;32mimport\u001b[0m \u001b[0mnumpy\u001b[0m \u001b[0;32mas\u001b[0m \u001b[0mnp\u001b[0m\u001b[0;34m\u001b[0m\u001b[0;34m\u001b[0m\u001b[0m\n\u001b[0;32m---> 12\u001b[0;31m \u001b[0;32mimport\u001b[0m \u001b[0mpyregion\u001b[0m\u001b[0;34m\u001b[0m\u001b[0;34m\u001b[0m\u001b[0m\n\u001b[0m\u001b[1;32m     13\u001b[0m \u001b[0;34m\u001b[0m\u001b[0m\n\u001b[1;32m     14\u001b[0m \u001b[0;31m# WIP ---!\u001b[0m\u001b[0;34m\u001b[0m\u001b[0;34m\u001b[0m\u001b[0;34m\u001b[0m\u001b[0m\n",
      "\u001b[0;31mModuleNotFoundError\u001b[0m: No module named 'pyregion'"
     ]
    }
   ],
   "source": [
    "# =================================\n",
    "# !!! CHECK SIMULATIONS RESULTS !!!\n",
    "# =================================\n",
    "\n",
    "import matplotlib.pyplot as plt\n",
    "from module_plot import showSkymap\n",
    "#from module_xml import getRaDec\n",
    "\n",
    "skypath = '/home/ambra/Desktop/cluster-morgana/run0406_10x160_v07/run0406/run0406_ID000126/detection_all/'\n",
    "\n",
    "for i in range(9):\n",
    "    region = skypath + 'texp100s_run0406_sim%06d_det5sgm.reg' % (i+1)\n",
    "    showSkymap(skypath +'texp100s_run0406_sim%06d_skymap.fits' % (i+1), reg=region)\n"
   ]
  },
  {
   "cell_type": "code",
   "execution_count": null,
   "metadata": {},
   "outputs": [],
   "source": [
    "# =========================== #\n",
    "# 1. READ CSV FILE SINGLE SIM #\n",
    "# =========================== #\n",
    "\n",
    "\n",
    "import csv\n",
    "import matplotlib.pyplot as plt\n",
    "import numpy as np\n",
    "import pandas as pd\n",
    "\n",
    "csvName = 'simRUN0406_obs_det5sgm.csv'\n",
    "\n",
    "df = pd.read_csv(csvName)\n",
    "\n",
    "\n",
    "trial = df['#trial']\n",
    "tbin = df['t int']\n",
    "sigma = df['sigma']\n",
    "Nsrc = df['Nsrc']\n",
    "raSrc001 = df['RA Src001']\n",
    "decSrc001 = df['DEC Src001']\n",
    "raFit = df['RA Fit']\n",
    "decFit = df['DEC Fit']\n",
    "raFit_err = df['RA err']\n",
    "decFit_err = df['DEC err']\n",
    "mean_err = round(df['MEAN err'],3)\n",
    "tsv = df['TSV']\n",
    "\n",
    "trials = len(trial)\n",
    "\n",
    "print(raSrc001, '\\n', decSrc001)\n",
    "print(sum(list(raSrc001)), sum(decSrc001))\n",
    "\n",
    "\n",
    "# find mean position ---!\n",
    "n= 0\n",
    "raTot = 0\n",
    "decTot = 0\n",
    "for i in range(trials) :\n",
    "    if Nsrc[i] > 0 :\n",
    "        raTot += raSrc001[i] if raSrc001[i] != 'NaN' else None\n",
    "        decTot += decSrc001[i] if decSrc001[i] != 'NaN' else None\n",
    "        n += 1\n",
    "        \n",
    "if raTot != 0 :\n",
    "    raMean = raTot/n \n",
    "    decMean = decTot/n\n",
    "else : \n",
    "    raMean = 0\n",
    "    decMean = 0\n",
    "\n",
    "print('\\nmean pos:', raMean, decMean)"
   ]
  },
  {
   "cell_type": "code",
   "execution_count": null,
   "metadata": {},
   "outputs": [],
   "source": []
  }
 ],
 "metadata": {
  "kernelspec": {
   "display_name": "Python 3",
   "language": "python",
   "name": "python3"
  },
  "language_info": {
   "codemirror_mode": {
    "name": "ipython",
    "version": 3
   },
   "file_extension": ".py",
   "mimetype": "text/x-python",
   "name": "python",
   "nbconvert_exporter": "python",
   "pygments_lexer": "ipython3",
   "version": "3.6.8"
  }
 },
 "nbformat": 4,
 "nbformat_minor": 2
}
